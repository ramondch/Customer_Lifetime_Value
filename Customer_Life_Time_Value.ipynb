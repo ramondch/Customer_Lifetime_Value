{
 "cells": [
  {
   "cell_type": "code",
   "execution_count": 147,
   "id": "3a5e284e",
   "metadata": {},
   "outputs": [],
   "source": [
    "import pandas as pd\n",
    "import numpy as np\n",
    "import matplotlib.pylab as pl\n",
    "import matplotlib.pyplot as plt\n",
    "import statsmodels.api as sm\n",
    "import seaborn as sns\n",
    "from scipy import stats\n",
    "from matplotlib import pyplot\n",
    "import random\n",
    "\n",
    "import warnings\n",
    "warnings.filterwarnings(\"ignore\")"
   ]
  },
  {
   "cell_type": "code",
   "execution_count": 148,
   "id": "71623321",
   "metadata": {},
   "outputs": [],
   "source": [
    "xlsx = pd.ExcelFile('Telco_customer_churn.xlsx')\n",
    "df_tlco_churn = pd.read_excel(xlsx, 'Telco_Churn')"
   ]
  },
  {
   "cell_type": "code",
   "execution_count": 149,
   "id": "e93250a8",
   "metadata": {},
   "outputs": [],
   "source": [
    "df_tlco_churn = df_tlco_churn.rename(columns={'CustomerID': 'Customer ID'})"
   ]
  },
  {
   "cell_type": "code",
   "execution_count": 150,
   "id": "7642688d",
   "metadata": {},
   "outputs": [
    {
     "data": {
      "text/plain": [
       "Index(['Customer ID', 'Count', 'Country', 'State', 'City', 'Zip Code',\n",
       "       'Lat Long', 'Latitude', 'Longitude', 'Gender', 'Senior Citizen',\n",
       "       'Partner', 'Dependents', 'Tenure Months', 'Phone Service',\n",
       "       'Multiple Lines', 'Internet Service', 'Online Security',\n",
       "       'Online Backup', 'Device Protection', 'Tech Support', 'Streaming TV',\n",
       "       'Streaming Movies', 'Contract', 'Paperless Billing', 'Payment Method',\n",
       "       'Monthly Charges', 'Total Charges', 'Churn Label', 'Churn Value',\n",
       "       'Churn Score', 'CLTV', 'Churn Reason'],\n",
       "      dtype='object')"
      ]
     },
     "execution_count": 150,
     "metadata": {},
     "output_type": "execute_result"
    }
   ],
   "source": [
    "df_tlco_churn.columns"
   ]
  },
  {
   "cell_type": "code",
   "execution_count": 151,
   "id": "73c2eff4",
   "metadata": {},
   "outputs": [],
   "source": [
    "xlsx = pd.ExcelFile('Telco_customer_churn_demographics.xlsx')\n",
    "df_demograph = pd.read_excel(xlsx, 'Telco_Churn')"
   ]
  },
  {
   "cell_type": "code",
   "execution_count": 152,
   "id": "2e175656",
   "metadata": {},
   "outputs": [
    {
     "data": {
      "text/plain": [
       "Customer ID             object\n",
       "Count                    int64\n",
       "Gender                  object\n",
       "Age                      int64\n",
       "Under 30                object\n",
       "Senior Citizen          object\n",
       "Married                 object\n",
       "Dependents              object\n",
       "Number of Dependents     int64\n",
       "dtype: object"
      ]
     },
     "execution_count": 152,
     "metadata": {},
     "output_type": "execute_result"
    }
   ],
   "source": [
    "df_demograph.dtypes"
   ]
  },
  {
   "cell_type": "code",
   "execution_count": 153,
   "id": "d6c01771",
   "metadata": {},
   "outputs": [],
   "source": [
    "xlsx = pd.ExcelFile('Telco_customer_churn_population.xlsx')\n",
    "df_population = pd.read_excel(xlsx, 'Population')"
   ]
  },
  {
   "cell_type": "code",
   "execution_count": 154,
   "id": "d2a68507",
   "metadata": {},
   "outputs": [
    {
     "data": {
      "text/html": [
       "<div>\n",
       "<style scoped>\n",
       "    .dataframe tbody tr th:only-of-type {\n",
       "        vertical-align: middle;\n",
       "    }\n",
       "\n",
       "    .dataframe tbody tr th {\n",
       "        vertical-align: top;\n",
       "    }\n",
       "\n",
       "    .dataframe thead th {\n",
       "        text-align: right;\n",
       "    }\n",
       "</style>\n",
       "<table border=\"1\" class=\"dataframe\">\n",
       "  <thead>\n",
       "    <tr style=\"text-align: right;\">\n",
       "      <th></th>\n",
       "      <th>ID</th>\n",
       "      <th>Zip Code</th>\n",
       "      <th>Population</th>\n",
       "    </tr>\n",
       "  </thead>\n",
       "  <tbody>\n",
       "    <tr>\n",
       "      <th>0</th>\n",
       "      <td>1</td>\n",
       "      <td>90001</td>\n",
       "      <td>54492</td>\n",
       "    </tr>\n",
       "    <tr>\n",
       "      <th>1</th>\n",
       "      <td>2</td>\n",
       "      <td>90002</td>\n",
       "      <td>44586</td>\n",
       "    </tr>\n",
       "    <tr>\n",
       "      <th>2</th>\n",
       "      <td>3</td>\n",
       "      <td>90003</td>\n",
       "      <td>58198</td>\n",
       "    </tr>\n",
       "    <tr>\n",
       "      <th>3</th>\n",
       "      <td>4</td>\n",
       "      <td>90004</td>\n",
       "      <td>67852</td>\n",
       "    </tr>\n",
       "    <tr>\n",
       "      <th>4</th>\n",
       "      <td>5</td>\n",
       "      <td>90005</td>\n",
       "      <td>43019</td>\n",
       "    </tr>\n",
       "  </tbody>\n",
       "</table>\n",
       "</div>"
      ],
      "text/plain": [
       "   ID  Zip Code  Population\n",
       "0   1     90001       54492\n",
       "1   2     90002       44586\n",
       "2   3     90003       58198\n",
       "3   4     90004       67852\n",
       "4   5     90005       43019"
      ]
     },
     "execution_count": 154,
     "metadata": {},
     "output_type": "execute_result"
    }
   ],
   "source": [
    "df_population.head()"
   ]
  },
  {
   "cell_type": "code",
   "execution_count": 155,
   "id": "b288f2f5",
   "metadata": {},
   "outputs": [],
   "source": [
    "xlsx = pd.ExcelFile('Telco_customer_churn_services.xlsx')\n",
    "df_services = pd.read_excel(xlsx, 'Telco_Churn')"
   ]
  },
  {
   "cell_type": "code",
   "execution_count": 156,
   "id": "56ed4b35",
   "metadata": {},
   "outputs": [],
   "source": [
    "xlsx = pd.ExcelFile('Telco_customer_churn_status.xlsx')\n",
    "df_status = pd.read_excel(xlsx, 'Telco_Churn')"
   ]
  },
  {
   "cell_type": "markdown",
   "id": "9ff47770",
   "metadata": {},
   "source": [
    "# Joining Datasets"
   ]
  },
  {
   "cell_type": "code",
   "execution_count": 157,
   "id": "19981b04",
   "metadata": {},
   "outputs": [],
   "source": [
    "merge_1 = pd.merge(df_tlco_churn, df_demograph, on='Customer ID')"
   ]
  },
  {
   "cell_type": "code",
   "execution_count": 158,
   "id": "2af779f0",
   "metadata": {},
   "outputs": [],
   "source": [
    "merge_2 = pd.merge(merge_1, df_services, on='Customer ID')"
   ]
  },
  {
   "cell_type": "code",
   "execution_count": 159,
   "id": "e2a7623e",
   "metadata": {},
   "outputs": [],
   "source": [
    "merge_3 = pd.merge(merge_2, df_status, on='Customer ID')"
   ]
  },
  {
   "cell_type": "code",
   "execution_count": 160,
   "id": "6b89f863",
   "metadata": {},
   "outputs": [],
   "source": [
    "df_telco = merge_3"
   ]
  },
  {
   "cell_type": "code",
   "execution_count": 161,
   "id": "bb7f1ca3",
   "metadata": {},
   "outputs": [
    {
     "data": {
      "text/html": [
       "<div>\n",
       "<style scoped>\n",
       "    .dataframe tbody tr th:only-of-type {\n",
       "        vertical-align: middle;\n",
       "    }\n",
       "\n",
       "    .dataframe tbody tr th {\n",
       "        vertical-align: top;\n",
       "    }\n",
       "\n",
       "    .dataframe thead th {\n",
       "        text-align: right;\n",
       "    }\n",
       "</style>\n",
       "<table border=\"1\" class=\"dataframe\">\n",
       "  <thead>\n",
       "    <tr style=\"text-align: right;\">\n",
       "      <th></th>\n",
       "      <th>Customer ID</th>\n",
       "      <th>Count_x</th>\n",
       "      <th>Country</th>\n",
       "      <th>State</th>\n",
       "      <th>City</th>\n",
       "      <th>Zip Code</th>\n",
       "      <th>Lat Long</th>\n",
       "      <th>Latitude</th>\n",
       "      <th>Longitude</th>\n",
       "      <th>Gender_x</th>\n",
       "      <th>...</th>\n",
       "      <th>Count_y</th>\n",
       "      <th>Quarter_y</th>\n",
       "      <th>Satisfaction Score</th>\n",
       "      <th>Customer Status</th>\n",
       "      <th>Churn Label_y</th>\n",
       "      <th>Churn Value_y</th>\n",
       "      <th>Churn Score_y</th>\n",
       "      <th>CLTV_y</th>\n",
       "      <th>Churn Category</th>\n",
       "      <th>Churn Reason_y</th>\n",
       "    </tr>\n",
       "  </thead>\n",
       "  <tbody>\n",
       "    <tr>\n",
       "      <th>0</th>\n",
       "      <td>3668-QPYBK</td>\n",
       "      <td>1</td>\n",
       "      <td>United States</td>\n",
       "      <td>California</td>\n",
       "      <td>Los Angeles</td>\n",
       "      <td>90003</td>\n",
       "      <td>33.964131, -118.272783</td>\n",
       "      <td>33.964131</td>\n",
       "      <td>-118.272783</td>\n",
       "      <td>Male</td>\n",
       "      <td>...</td>\n",
       "      <td>1</td>\n",
       "      <td>Q3</td>\n",
       "      <td>1</td>\n",
       "      <td>Churned</td>\n",
       "      <td>Yes</td>\n",
       "      <td>1</td>\n",
       "      <td>86</td>\n",
       "      <td>3239</td>\n",
       "      <td>Competitor</td>\n",
       "      <td>Competitor made better offer</td>\n",
       "    </tr>\n",
       "    <tr>\n",
       "      <th>1</th>\n",
       "      <td>9237-HQITU</td>\n",
       "      <td>1</td>\n",
       "      <td>United States</td>\n",
       "      <td>California</td>\n",
       "      <td>Los Angeles</td>\n",
       "      <td>90005</td>\n",
       "      <td>34.059281, -118.30742</td>\n",
       "      <td>34.059281</td>\n",
       "      <td>-118.307420</td>\n",
       "      <td>Female</td>\n",
       "      <td>...</td>\n",
       "      <td>1</td>\n",
       "      <td>Q3</td>\n",
       "      <td>2</td>\n",
       "      <td>Churned</td>\n",
       "      <td>Yes</td>\n",
       "      <td>1</td>\n",
       "      <td>67</td>\n",
       "      <td>2701</td>\n",
       "      <td>Other</td>\n",
       "      <td>Moved</td>\n",
       "    </tr>\n",
       "    <tr>\n",
       "      <th>2</th>\n",
       "      <td>9305-CDSKC</td>\n",
       "      <td>1</td>\n",
       "      <td>United States</td>\n",
       "      <td>California</td>\n",
       "      <td>Los Angeles</td>\n",
       "      <td>90006</td>\n",
       "      <td>34.048013, -118.293953</td>\n",
       "      <td>34.048013</td>\n",
       "      <td>-118.293953</td>\n",
       "      <td>Female</td>\n",
       "      <td>...</td>\n",
       "      <td>1</td>\n",
       "      <td>Q3</td>\n",
       "      <td>3</td>\n",
       "      <td>Churned</td>\n",
       "      <td>Yes</td>\n",
       "      <td>1</td>\n",
       "      <td>86</td>\n",
       "      <td>5372</td>\n",
       "      <td>Other</td>\n",
       "      <td>Moved</td>\n",
       "    </tr>\n",
       "    <tr>\n",
       "      <th>3</th>\n",
       "      <td>7892-POOKP</td>\n",
       "      <td>1</td>\n",
       "      <td>United States</td>\n",
       "      <td>California</td>\n",
       "      <td>Los Angeles</td>\n",
       "      <td>90010</td>\n",
       "      <td>34.062125, -118.315709</td>\n",
       "      <td>34.062125</td>\n",
       "      <td>-118.315709</td>\n",
       "      <td>Female</td>\n",
       "      <td>...</td>\n",
       "      <td>1</td>\n",
       "      <td>Q3</td>\n",
       "      <td>3</td>\n",
       "      <td>Churned</td>\n",
       "      <td>Yes</td>\n",
       "      <td>1</td>\n",
       "      <td>84</td>\n",
       "      <td>5003</td>\n",
       "      <td>Other</td>\n",
       "      <td>Moved</td>\n",
       "    </tr>\n",
       "    <tr>\n",
       "      <th>4</th>\n",
       "      <td>0280-XJGEX</td>\n",
       "      <td>1</td>\n",
       "      <td>United States</td>\n",
       "      <td>California</td>\n",
       "      <td>Los Angeles</td>\n",
       "      <td>90015</td>\n",
       "      <td>34.039224, -118.266293</td>\n",
       "      <td>34.039224</td>\n",
       "      <td>-118.266293</td>\n",
       "      <td>Male</td>\n",
       "      <td>...</td>\n",
       "      <td>1</td>\n",
       "      <td>Q3</td>\n",
       "      <td>1</td>\n",
       "      <td>Churned</td>\n",
       "      <td>Yes</td>\n",
       "      <td>1</td>\n",
       "      <td>89</td>\n",
       "      <td>5340</td>\n",
       "      <td>Competitor</td>\n",
       "      <td>Competitor had better devices</td>\n",
       "    </tr>\n",
       "  </tbody>\n",
       "</table>\n",
       "<p>5 rows × 80 columns</p>\n",
       "</div>"
      ],
      "text/plain": [
       "  Customer ID  Count_x        Country       State         City  Zip Code  \\\n",
       "0  3668-QPYBK        1  United States  California  Los Angeles     90003   \n",
       "1  9237-HQITU        1  United States  California  Los Angeles     90005   \n",
       "2  9305-CDSKC        1  United States  California  Los Angeles     90006   \n",
       "3  7892-POOKP        1  United States  California  Los Angeles     90010   \n",
       "4  0280-XJGEX        1  United States  California  Los Angeles     90015   \n",
       "\n",
       "                 Lat Long   Latitude   Longitude Gender_x  ... Count_y  \\\n",
       "0  33.964131, -118.272783  33.964131 -118.272783     Male  ...       1   \n",
       "1   34.059281, -118.30742  34.059281 -118.307420   Female  ...       1   \n",
       "2  34.048013, -118.293953  34.048013 -118.293953   Female  ...       1   \n",
       "3  34.062125, -118.315709  34.062125 -118.315709   Female  ...       1   \n",
       "4  34.039224, -118.266293  34.039224 -118.266293     Male  ...       1   \n",
       "\n",
       "  Quarter_y Satisfaction Score  Customer Status Churn Label_y Churn Value_y  \\\n",
       "0        Q3                  1          Churned           Yes             1   \n",
       "1        Q3                  2          Churned           Yes             1   \n",
       "2        Q3                  3          Churned           Yes             1   \n",
       "3        Q3                  3          Churned           Yes             1   \n",
       "4        Q3                  1          Churned           Yes             1   \n",
       "\n",
       "  Churn Score_y CLTV_y Churn Category                 Churn Reason_y  \n",
       "0            86   3239     Competitor   Competitor made better offer  \n",
       "1            67   2701          Other                          Moved  \n",
       "2            86   5372          Other                          Moved  \n",
       "3            84   5003          Other                          Moved  \n",
       "4            89   5340     Competitor  Competitor had better devices  \n",
       "\n",
       "[5 rows x 80 columns]"
      ]
     },
     "execution_count": 161,
     "metadata": {},
     "output_type": "execute_result"
    }
   ],
   "source": [
    "df_telco.head()"
   ]
  },
  {
   "cell_type": "code",
   "execution_count": 162,
   "id": "773b89ed",
   "metadata": {},
   "outputs": [],
   "source": [
    "columns_to_be_dropped = ['Count_x', 'Count_y', 'Gender_y','Senior Citizen_y', 'Dependents_y','Count_x','Phone Service_y',\n",
    "       'Multiple Lines_y','Internet Service_y','Online Security_y', 'Online Backup_y', 'Streaming TV_y', 'Streaming Movies_y',\n",
    "       'Contract_y','Paperless Billing_y', 'Payment Method_y','Total Charges_y','Count_y', 'Quarter_y','Churn Label_y',\n",
    "       'Churn Value_y', 'Churn Score_y', 'CLTV_y','Churn Reason_y', 'Tenure in Months', 'Monthly Charge', 'Quarter_x',\n",
    "        'Total Long Distance Charges', 'Total Charges_x', 'Churn Label_x','Customer Status', 'Churn Category', 'Churn Reason_x' ]"
   ]
  },
  {
   "cell_type": "code",
   "execution_count": 163,
   "id": "56ee9e2d",
   "metadata": {},
   "outputs": [],
   "source": [
    "df_telco = df_telco.drop(labels = columns_to_be_dropped, axis=1)"
   ]
  },
  {
   "cell_type": "code",
   "execution_count": 164,
   "id": "408d5b31",
   "metadata": {},
   "outputs": [
    {
     "data": {
      "text/plain": [
       "Index(['Customer ID', 'Country', 'State', 'City', 'Zip Code', 'Lat Long',\n",
       "       'Latitude', 'Longitude', 'Gender_x', 'Senior Citizen_x', 'Partner',\n",
       "       'Dependents_x', 'Tenure Months', 'Phone Service_x', 'Multiple Lines_x',\n",
       "       'Internet Service_x', 'Online Security_x', 'Online Backup_x',\n",
       "       'Device Protection', 'Tech Support', 'Streaming TV_x',\n",
       "       'Streaming Movies_x', 'Contract_x', 'Paperless Billing_x',\n",
       "       'Payment Method_x', 'Monthly Charges', 'Churn Value_x', 'Churn Score_x',\n",
       "       'CLTV_x', 'Age', 'Under 30', 'Married', 'Number of Dependents',\n",
       "       'Referred a Friend', 'Number of Referrals', 'Offer',\n",
       "       'Avg Monthly Long Distance Charges', 'Internet Type',\n",
       "       'Avg Monthly GB Download', 'Device Protection Plan',\n",
       "       'Premium Tech Support', 'Streaming Music', 'Unlimited Data',\n",
       "       'Total Refunds', 'Total Extra Data Charges', 'Total Revenue',\n",
       "       'Satisfaction Score'],\n",
       "      dtype='object')"
      ]
     },
     "execution_count": 164,
     "metadata": {},
     "output_type": "execute_result"
    }
   ],
   "source": [
    "df_telco.columns"
   ]
  },
  {
   "cell_type": "code",
   "execution_count": 165,
   "id": "cd415082",
   "metadata": {},
   "outputs": [],
   "source": [
    "df_telco = df_telco.rename(columns={'Gender_x':'Gender', 'Senior Citizen_x':'Senior Citizen',\n",
    "        'Phone Service_x':'Phone Service', 'Multiple Lines_x':'Multiple Lines',\n",
    "        'Dependents_x':'Dependents',\n",
    "       'Internet Service_x':'Internet Service', 'Online Security_x':'Online Security', 'Online Backup_x':'Online Backup',\n",
    "       'Streaming TV_x':'Streaming TV',\n",
    "       'Streaming Movies_x':'Streaming Movies', 'Contract_x':'Contract', 'Paperless Billing_x':'Paperless Billing',\n",
    "       'Payment Method_x':'Payment Method','Churn Value_x':'Churn Value', 'Churn Score_x':'Churn Score',\n",
    "       'CLTV_x':'CLTV'})"
   ]
  },
  {
   "cell_type": "code",
   "execution_count": 166,
   "id": "7e0c04de",
   "metadata": {},
   "outputs": [],
   "source": [
    "df_selected = df_telco[['State', 'City', 'Zip Code',\n",
    "       'Latitude', 'Longitude', 'Gender', 'Senior Citizen', 'Partner',\n",
    "        'Phone Service', 'Multiple Lines',\n",
    "        'Age', 'Under 30', 'Married', 'Number of Dependents', 'Dependents',\n",
    "        'Referred a Friend', 'Number of Referrals', 'Offer',\n",
    "       'Internet Service', 'Online Security', 'Online Backup',\n",
    "       'Device Protection', 'Tech Support', 'Streaming TV',\n",
    "       'Streaming Movies', 'Contract', 'Paperless Billing',\n",
    "       'Payment Method','Churn Value', 'Churn Score',\n",
    "       'Avg Monthly Long Distance Charges', 'Internet Type',\n",
    "       'Avg Monthly GB Download', 'Device Protection Plan',\n",
    "       'Premium Tech Support', 'Streaming Music', 'Unlimited Data','Monthly Charges',\n",
    "       'Total Refunds', 'Total Extra Data Charges', 'Total Revenue','Tenure Months', 'CLTV',\n",
    "       'Satisfaction Score']]"
   ]
  },
  {
   "cell_type": "code",
   "execution_count": 167,
   "id": "34757a25",
   "metadata": {},
   "outputs": [
    {
     "data": {
      "text/plain": [
       "State                                 object\n",
       "City                                  object\n",
       "Zip Code                               int64\n",
       "Latitude                             float64\n",
       "Longitude                            float64\n",
       "Gender                                object\n",
       "Senior Citizen                        object\n",
       "Partner                               object\n",
       "Phone Service                         object\n",
       "Multiple Lines                        object\n",
       "Age                                    int64\n",
       "Under 30                              object\n",
       "Married                               object\n",
       "Number of Dependents                   int64\n",
       "Dependents                            object\n",
       "Referred a Friend                     object\n",
       "Number of Referrals                    int64\n",
       "Offer                                 object\n",
       "Internet Service                      object\n",
       "Online Security                       object\n",
       "Online Backup                         object\n",
       "Device Protection                     object\n",
       "Tech Support                          object\n",
       "Streaming TV                          object\n",
       "Streaming Movies                      object\n",
       "Contract                              object\n",
       "Paperless Billing                     object\n",
       "Payment Method                        object\n",
       "Churn Value                            int64\n",
       "Churn Score                            int64\n",
       "Avg Monthly Long Distance Charges    float64\n",
       "Internet Type                         object\n",
       "Avg Monthly GB Download                int64\n",
       "Device Protection Plan                object\n",
       "Premium Tech Support                  object\n",
       "Streaming Music                       object\n",
       "Unlimited Data                        object\n",
       "Monthly Charges                      float64\n",
       "Total Refunds                        float64\n",
       "Total Extra Data Charges               int64\n",
       "Total Revenue                        float64\n",
       "Tenure Months                          int64\n",
       "CLTV                                   int64\n",
       "Satisfaction Score                     int64\n",
       "dtype: object"
      ]
     },
     "execution_count": 167,
     "metadata": {},
     "output_type": "execute_result"
    }
   ],
   "source": [
    "df_selected.dtypes"
   ]
  },
  {
   "cell_type": "code",
   "execution_count": 168,
   "id": "e1c6ae3a",
   "metadata": {},
   "outputs": [],
   "source": [
    "df_selected['Zip Code'] = df_selected['Zip Code'].astype('object')"
   ]
  },
  {
   "cell_type": "code",
   "execution_count": 169,
   "id": "fab8c35c",
   "metadata": {},
   "outputs": [
    {
     "data": {
      "text/plain": [
       "State                                 object\n",
       "City                                  object\n",
       "Zip Code                              object\n",
       "Latitude                             float64\n",
       "Longitude                            float64\n",
       "Gender                                object\n",
       "Senior Citizen                        object\n",
       "Partner                               object\n",
       "Phone Service                         object\n",
       "Multiple Lines                        object\n",
       "Age                                    int64\n",
       "Under 30                              object\n",
       "Married                               object\n",
       "Number of Dependents                   int64\n",
       "Dependents                            object\n",
       "Referred a Friend                     object\n",
       "Number of Referrals                    int64\n",
       "Offer                                 object\n",
       "Internet Service                      object\n",
       "Online Security                       object\n",
       "Online Backup                         object\n",
       "Device Protection                     object\n",
       "Tech Support                          object\n",
       "Streaming TV                          object\n",
       "Streaming Movies                      object\n",
       "Contract                              object\n",
       "Paperless Billing                     object\n",
       "Payment Method                        object\n",
       "Churn Value                            int64\n",
       "Churn Score                            int64\n",
       "Avg Monthly Long Distance Charges    float64\n",
       "Internet Type                         object\n",
       "Avg Monthly GB Download                int64\n",
       "Device Protection Plan                object\n",
       "Premium Tech Support                  object\n",
       "Streaming Music                       object\n",
       "Unlimited Data                        object\n",
       "Monthly Charges                      float64\n",
       "Total Refunds                        float64\n",
       "Total Extra Data Charges               int64\n",
       "Total Revenue                        float64\n",
       "Tenure Months                          int64\n",
       "CLTV                                   int64\n",
       "Satisfaction Score                     int64\n",
       "dtype: object"
      ]
     },
     "execution_count": 169,
     "metadata": {},
     "output_type": "execute_result"
    }
   ],
   "source": [
    "df_selected.dtypes"
   ]
  },
  {
   "cell_type": "code",
   "execution_count": 170,
   "id": "380a426f",
   "metadata": {
    "scrolled": true
   },
   "outputs": [
    {
     "name": "stdout",
     "output_type": "stream",
     "text": [
      "***************************************************************************************\n",
      "Gender\n"
     ]
    },
    {
     "data": {
      "image/png": "[encoded data removed]",
      "text/plain": [
       "<Figure size 432x288 with 1 Axes>"
      ]
     },
     "metadata": {},
     "output_type": "display_data"
    },
    {
     "name": "stdout",
     "output_type": "stream",
     "text": [
      "Number of values:\n",
      "Male      3555\n",
      "Female    3488\n",
      "Name: Gender, dtype: int64\n",
      "***************************************************************************************\n",
      "Senior Citizen\n"
     ]
    },
    {
     "data": {
      "image/png": "[encoded data removed]",
      "text/plain": [
       "<Figure size 432x288 with 1 Axes>"
      ]
     },
     "metadata": {},
     "output_type": "display_data"
    },
    {
     "name": "stdout",
     "output_type": "stream",
     "text": [
      "Number of values:\n",
      "No     5901\n",
      "Yes    1142\n",
      "Name: Senior Citizen, dtype: int64\n",
      "***************************************************************************************\n",
      "Partner\n"
     ]
    },
    {
     "data": {
      "image/png": "[encoded data removed]",
      "text/plain": [
       "<Figure size 432x288 with 1 Axes>"
      ]
     },
     "metadata": {},
     "output_type": "display_data"
    },
    {
     "name": "stdout",
     "output_type": "stream",
     "text": [
      "Number of values:\n",
      "No     3641\n",
      "Yes    3402\n",
      "Name: Partner, dtype: int64\n",
      "***************************************************************************************\n",
      "Phone Service\n"
     ]
    },
    {
     "data": {
      "image/png": "[encoded data removed]",
      "text/plain": [
       "<Figure size 432x288 with 1 Axes>"
      ]
     },
     "metadata": {},
     "output_type": "display_data"
    },
    {
     "name": "stdout",
     "output_type": "stream",
     "text": [
      "Number of values:\n",
      "Yes    6361\n",
      "No      682\n",
      "Name: Phone Service, dtype: int64\n",
      "***************************************************************************************\n",
      "Multiple Lines\n"
     ]
    },
    {
     "data": {
      "image/png": "[encoded data removed]",
      "text/plain": [
       "<Figure size 432x288 with 1 Axes>"
      ]
     },
     "metadata": {},
     "output_type": "display_data"
    },
    {
     "name": "stdout",
     "output_type": "stream",
     "text": [
      "Number of values:\n",
      "No                  3390\n",
      "Yes                 2971\n",
      "No phone service     682\n",
      "Name: Multiple Lines, dtype: int64\n",
      "***************************************************************************************\n",
      "Under 30\n"
     ]
    },
    {
     "data": {
      "image/png": "[encoded data removed]",
      "text/plain": [
       "<Figure size 432x288 with 1 Axes>"
      ]
     },
     "metadata": {},
     "output_type": "display_data"
    },
    {
     "name": "stdout",
     "output_type": "stream",
     "text": [
      "Number of values:\n",
      "No     5642\n",
      "Yes    1401\n",
      "Name: Under 30, dtype: int64\n",
      "***************************************************************************************\n",
      "Married\n"
     ]
    },
    {
     "data": {
      "image/png": "[encoded data removed]",
      "text/plain": [
       "<Figure size 432x288 with 1 Axes>"
      ]
     },
     "metadata": {},
     "output_type": "display_data"
    },
    {
     "name": "stdout",
     "output_type": "stream",
     "text": [
      "Number of values:\n",
      "No     3641\n",
      "Yes    3402\n",
      "Name: Married, dtype: int64\n",
      "***************************************************************************************\n",
      "Dependents\n"
     ]
    },
    {
     "data": {
      "image/png": "[encoded data removed]",
      "text/plain": [
       "<Figure size 432x288 with 1 Axes>"
      ]
     },
     "metadata": {},
     "output_type": "display_data"
    },
    {
     "name": "stdout",
     "output_type": "stream",
     "text": [
      "Number of values:\n",
      "No     5416\n",
      "Yes    1627\n",
      "Name: Dependents, dtype: int64\n",
      "***************************************************************************************\n",
      "Referred a Friend\n"
     ]
    },
    {
     "data": {
      "image/png": "[encoded data removed]",
      "text/plain": [
       "<Figure size 432x288 with 1 Axes>"
      ]
     },
     "metadata": {},
     "output_type": "display_data"
    },
    {
     "name": "stdout",
     "output_type": "stream",
     "text": [
      "Number of values:\n",
      "No     3821\n",
      "Yes    3222\n",
      "Name: Referred a Friend, dtype: int64\n",
      "***************************************************************************************\n",
      "Offer\n"
     ]
    },
    {
     "data": {
      "image/png": "[encoded data removed]",
      "text/plain": [
       "<Figure size 432x288 with 1 Axes>"
      ]
     },
     "metadata": {},
     "output_type": "display_data"
    },
    {
     "name": "stdout",
     "output_type": "stream",
     "text": [
      "Number of values:\n",
      "None       3877\n",
      "Offer B     824\n",
      "Offer E     805\n",
      "Offer D     602\n",
      "Offer A     520\n",
      "Offer C     415\n",
      "Name: Offer, dtype: int64\n",
      "***************************************************************************************\n",
      "Internet Service\n"
     ]
    },
    {
     "data": {
      "image/png": "[encoded data removed]",
      "text/plain": [
       "<Figure size 432x288 with 1 Axes>"
      ]
     },
     "metadata": {},
     "output_type": "display_data"
    },
    {
     "name": "stdout",
     "output_type": "stream",
     "text": [
      "Number of values:\n",
      "Fiber optic    3096\n",
      "DSL            2421\n",
      "No             1526\n",
      "Name: Internet Service, dtype: int64\n",
      "***************************************************************************************\n",
      "Online Security\n"
     ]
    },
    {
     "data": {
      "image/png": "[encoded data removed]",
      "text/plain": [
       "<Figure size 432x288 with 1 Axes>"
      ]
     },
     "metadata": {},
     "output_type": "display_data"
    },
    {
     "name": "stdout",
     "output_type": "stream",
     "text": [
      "Number of values:\n",
      "No                     3498\n",
      "Yes                    2019\n",
      "No internet service    1526\n",
      "Name: Online Security, dtype: int64\n",
      "***************************************************************************************\n",
      "Online Backup\n"
     ]
    },
    {
     "data": {
      "image/png": "[encoded data removed]",
      "text/plain": [
       "<Figure size 432x288 with 1 Axes>"
      ]
     },
     "metadata": {},
     "output_type": "display_data"
    },
    {
     "name": "stdout",
     "output_type": "stream",
     "text": [
      "Number of values:\n",
      "No                     3088\n",
      "Yes                    2429\n",
      "No internet service    1526\n",
      "Name: Online Backup, dtype: int64\n",
      "***************************************************************************************\n",
      "Device Protection\n"
     ]
    },
    {
     "data": {
      "image/png": "[encoded data removed]",
      "text/plain": [
       "<Figure size 432x288 with 1 Axes>"
      ]
     },
     "metadata": {},
     "output_type": "display_data"
    },
    {
     "name": "stdout",
     "output_type": "stream",
     "text": [
      "Number of values:\n",
      "No                     3095\n",
      "Yes                    2422\n",
      "No internet service    1526\n",
      "Name: Device Protection, dtype: int64\n",
      "***************************************************************************************\n",
      "Tech Support\n"
     ]
    },
    {
     "data": {
      "image/png": "[encoded data removed]",
      "text/plain": [
       "<Figure size 432x288 with 1 Axes>"
      ]
     },
     "metadata": {},
     "output_type": "display_data"
    },
    {
     "name": "stdout",
     "output_type": "stream",
     "text": [
      "Number of values:\n",
      "No                     3473\n",
      "Yes                    2044\n",
      "No internet service    1526\n",
      "Name: Tech Support, dtype: int64\n",
      "***************************************************************************************\n",
      "Streaming TV\n"
     ]
    },
    {
     "data": {
      "image/png": "[encoded data removed]",
      "text/plain": [
       "<Figure size 432x288 with 1 Axes>"
      ]
     },
     "metadata": {},
     "output_type": "display_data"
    },
    {
     "name": "stdout",
     "output_type": "stream",
     "text": [
      "Number of values:\n",
      "No                     2810\n",
      "Yes                    2707\n",
      "No internet service    1526\n",
      "Name: Streaming TV, dtype: int64\n",
      "***************************************************************************************\n",
      "Streaming Movies\n"
     ]
    },
    {
     "data": {
      "image/png": "[encoded data removed]",
      "text/plain": [
       "<Figure size 432x288 with 1 Axes>"
      ]
     },
     "metadata": {},
     "output_type": "display_data"
    },
    {
     "name": "stdout",
     "output_type": "stream",
     "text": [
      "Number of values:\n",
      "No                     2785\n",
      "Yes                    2732\n",
      "No internet service    1526\n",
      "Name: Streaming Movies, dtype: int64\n",
      "***************************************************************************************\n",
      "Contract\n"
     ]
    },
    {
     "data": {
      "image/png": "[encoded data removed]",
      "text/plain": [
       "<Figure size 432x288 with 1 Axes>"
      ]
     },
     "metadata": {},
     "output_type": "display_data"
    },
    {
     "name": "stdout",
     "output_type": "stream",
     "text": [
      "Number of values:\n",
      "Month-to-month    3875\n",
      "Two year          1695\n",
      "One year          1473\n",
      "Name: Contract, dtype: int64\n",
      "***************************************************************************************\n",
      "Paperless Billing\n"
     ]
    },
    {
     "data": {
      "image/png": "[encoded data removed]",
      "text/plain": [
       "<Figure size 432x288 with 1 Axes>"
      ]
     },
     "metadata": {},
     "output_type": "display_data"
    },
    {
     "name": "stdout",
     "output_type": "stream",
     "text": [
      "Number of values:\n",
      "Yes    4171\n",
      "No     2872\n",
      "Name: Paperless Billing, dtype: int64\n",
      "***************************************************************************************\n",
      "Payment Method\n"
     ]
    },
    {
     "data": {
      "image/png": "[encoded data removed]",
      "text/plain": [
       "<Figure size 432x288 with 1 Axes>"
      ]
     },
     "metadata": {},
     "output_type": "display_data"
    },
    {
     "name": "stdout",
     "output_type": "stream",
     "text": [
      "Number of values:\n",
      "Electronic check             2365\n",
      "Mailed check                 1612\n",
      "Bank transfer (automatic)    1544\n",
      "Credit card (automatic)      1522\n",
      "Name: Payment Method, dtype: int64\n",
      "***************************************************************************************\n",
      "Internet Type\n"
     ]
    },
    {
     "data": {
      "image/png": "[encoded data removed]",
      "text/plain": [
       "<Figure size 432x288 with 1 Axes>"
      ]
     },
     "metadata": {},
     "output_type": "display_data"
    },
    {
     "name": "stdout",
     "output_type": "stream",
     "text": [
      "Number of values:\n",
      "Fiber Optic    3035\n",
      "DSL            1652\n",
      "None           1526\n",
      "Cable           830\n",
      "Name: Internet Type, dtype: int64\n",
      "***************************************************************************************\n",
      "Device Protection Plan\n"
     ]
    },
    {
     "data": {
      "image/png": "[encoded data removed]",
      "text/plain": [
       "<Figure size 432x288 with 1 Axes>"
      ]
     },
     "metadata": {},
     "output_type": "display_data"
    },
    {
     "name": "stdout",
     "output_type": "stream",
     "text": [
      "Number of values:\n",
      "No     4621\n",
      "Yes    2422\n",
      "Name: Device Protection Plan, dtype: int64\n",
      "***************************************************************************************\n",
      "Premium Tech Support\n"
     ]
    },
    {
     "data": {
      "image/png": "[encoded data removed]",
      "text/plain": [
       "<Figure size 432x288 with 1 Axes>"
      ]
     },
     "metadata": {},
     "output_type": "display_data"
    },
    {
     "name": "stdout",
     "output_type": "stream",
     "text": [
      "Number of values:\n",
      "No     4999\n",
      "Yes    2044\n",
      "Name: Premium Tech Support, dtype: int64\n",
      "***************************************************************************************\n",
      "Streaming Music\n"
     ]
    },
    {
     "data": {
      "image/png": "[encoded data removed]",
      "text/plain": [
       "<Figure size 432x288 with 1 Axes>"
      ]
     },
     "metadata": {},
     "output_type": "display_data"
    },
    {
     "name": "stdout",
     "output_type": "stream",
     "text": [
      "Number of values:\n",
      "No     4555\n",
      "Yes    2488\n",
      "Name: Streaming Music, dtype: int64\n",
      "***************************************************************************************\n",
      "Unlimited Data\n"
     ]
    },
    {
     "data": {
      "image/png": "[encoded data removed]",
      "text/plain": [
       "<Figure size 432x288 with 1 Axes>"
      ]
     },
     "metadata": {},
     "output_type": "display_data"
    },
    {
     "name": "stdout",
     "output_type": "stream",
     "text": [
      "Number of values:\n",
      "Yes    4745\n",
      "No     2298\n",
      "Name: Unlimited Data, dtype: int64\n"
     ]
    }
   ],
   "source": [
    "df_object = df_selected.select_dtypes(include='object')\n",
    "df_object = df_object.drop(labels=['State', 'City', 'Zip Code'], axis=1)\n",
    "\n",
    "for i in df_object.columns:\n",
    "    print('***************************************************************************************')\n",
    "    print(i)\n",
    "    etiquetas = df_object[i].unique()\n",
    "    sectores = list(df_object[i].value_counts())\n",
    "    plt.pie(sectores, labels=etiquetas, colors=['green', \"red\", 'blue', 'orange', 'white', 'pink', 'yellow'],autopct='%1.1f%%',startangle=90)\n",
    "    plt.axis('equal')\n",
    "    plt.title('Percentage of %s' %i)\n",
    "    plt.show()\n",
    "    x = df_object[i].value_counts()\n",
    "    print('Number of values:')\n",
    "    print(x)"
   ]
  },
  {
   "cell_type": "markdown",
   "id": "b11ce2dc",
   "metadata": {},
   "source": [
    "## Nalisha Questions for the Presentation"
   ]
  },
  {
   "cell_type": "code",
   "execution_count": 171,
   "id": "19402f15",
   "metadata": {},
   "outputs": [
    {
     "data": {
      "text/plain": [
       "Index(['Customer ID', 'Country', 'State', 'City', 'Zip Code', 'Lat Long',\n",
       "       'Latitude', 'Longitude', 'Gender', 'Senior Citizen', 'Partner',\n",
       "       'Dependents', 'Tenure Months', 'Phone Service', 'Multiple Lines',\n",
       "       'Internet Service', 'Online Security', 'Online Backup',\n",
       "       'Device Protection', 'Tech Support', 'Streaming TV', 'Streaming Movies',\n",
       "       'Contract', 'Paperless Billing', 'Payment Method', 'Monthly Charges',\n",
       "       'Churn Value', 'Churn Score', 'CLTV', 'Age', 'Under 30', 'Married',\n",
       "       'Number of Dependents', 'Referred a Friend', 'Number of Referrals',\n",
       "       'Offer', 'Avg Monthly Long Distance Charges', 'Internet Type',\n",
       "       'Avg Monthly GB Download', 'Device Protection Plan',\n",
       "       'Premium Tech Support', 'Streaming Music', 'Unlimited Data',\n",
       "       'Total Refunds', 'Total Extra Data Charges', 'Total Revenue',\n",
       "       'Satisfaction Score'],\n",
       "      dtype='object')"
      ]
     },
     "execution_count": 171,
     "metadata": {},
     "output_type": "execute_result"
    }
   ],
   "source": [
    "df_telco.columns"
   ]
  },
  {
   "cell_type": "markdown",
   "id": "75528bca",
   "metadata": {},
   "source": [
    "### The best costumers for Churn Score"
   ]
  },
  {
   "cell_type": "code",
   "execution_count": 172,
   "id": "eb5e337c",
   "metadata": {},
   "outputs": [
    {
     "data": {
      "text/plain": [
       "5"
      ]
     },
     "execution_count": 172,
     "metadata": {},
     "output_type": "execute_result"
    }
   ],
   "source": [
    "df_telco[\"Churn Score\"].min()"
   ]
  },
  {
   "cell_type": "code",
   "execution_count": 173,
   "id": "96968485",
   "metadata": {},
   "outputs": [
    {
     "data": {
      "text/html": [
       "<div>\n",
       "<style scoped>\n",
       "    .dataframe tbody tr th:only-of-type {\n",
       "        vertical-align: middle;\n",
       "    }\n",
       "\n",
       "    .dataframe tbody tr th {\n",
       "        vertical-align: top;\n",
       "    }\n",
       "\n",
       "    .dataframe thead th {\n",
       "        text-align: right;\n",
       "    }\n",
       "</style>\n",
       "<table border=\"1\" class=\"dataframe\">\n",
       "  <thead>\n",
       "    <tr style=\"text-align: right;\">\n",
       "      <th></th>\n",
       "      <th>Customer ID</th>\n",
       "      <th>Country</th>\n",
       "      <th>State</th>\n",
       "      <th>City</th>\n",
       "      <th>Zip Code</th>\n",
       "      <th>Lat Long</th>\n",
       "      <th>Latitude</th>\n",
       "      <th>Longitude</th>\n",
       "      <th>Gender</th>\n",
       "      <th>Senior Citizen</th>\n",
       "      <th>...</th>\n",
       "      <th>Internet Type</th>\n",
       "      <th>Avg Monthly GB Download</th>\n",
       "      <th>Device Protection Plan</th>\n",
       "      <th>Premium Tech Support</th>\n",
       "      <th>Streaming Music</th>\n",
       "      <th>Unlimited Data</th>\n",
       "      <th>Total Refunds</th>\n",
       "      <th>Total Extra Data Charges</th>\n",
       "      <th>Total Revenue</th>\n",
       "      <th>Satisfaction Score</th>\n",
       "    </tr>\n",
       "  </thead>\n",
       "  <tbody>\n",
       "    <tr>\n",
       "      <th>2148</th>\n",
       "      <td>7156-MXBJE</td>\n",
       "      <td>United States</td>\n",
       "      <td>California</td>\n",
       "      <td>San Diego</td>\n",
       "      <td>92127</td>\n",
       "      <td>33.017518, -117.118456</td>\n",
       "      <td>33.017518</td>\n",
       "      <td>-117.118456</td>\n",
       "      <td>Female</td>\n",
       "      <td>No</td>\n",
       "      <td>...</td>\n",
       "      <td>DSL</td>\n",
       "      <td>53</td>\n",
       "      <td>Yes</td>\n",
       "      <td>Yes</td>\n",
       "      <td>Yes</td>\n",
       "      <td>No</td>\n",
       "      <td>0.0</td>\n",
       "      <td>30</td>\n",
       "      <td>3799.32</td>\n",
       "      <td>3</td>\n",
       "    </tr>\n",
       "  </tbody>\n",
       "</table>\n",
       "<p>1 rows × 47 columns</p>\n",
       "</div>"
      ],
      "text/plain": [
       "     Customer ID        Country       State       City  Zip Code  \\\n",
       "2148  7156-MXBJE  United States  California  San Diego     92127   \n",
       "\n",
       "                    Lat Long   Latitude   Longitude  Gender Senior Citizen  \\\n",
       "2148  33.017518, -117.118456  33.017518 -117.118456  Female             No   \n",
       "\n",
       "      ... Internet Type Avg Monthly GB Download  Device Protection Plan  \\\n",
       "2148  ...           DSL                      53                     Yes   \n",
       "\n",
       "     Premium Tech Support Streaming Music Unlimited Data Total Refunds  \\\n",
       "2148                  Yes             Yes             No           0.0   \n",
       "\n",
       "     Total Extra Data Charges Total Revenue Satisfaction Score  \n",
       "2148                       30       3799.32                  3  \n",
       "\n",
       "[1 rows x 47 columns]"
      ]
     },
     "execution_count": 173,
     "metadata": {},
     "output_type": "execute_result"
    }
   ],
   "source": [
    "df_telco[df_telco[\"Churn Score\"]==5]"
   ]
  },
  {
   "cell_type": "markdown",
   "id": "8fa83916",
   "metadata": {},
   "source": [
    "### The best costumers for Total Revenue"
   ]
  },
  {
   "cell_type": "code",
   "execution_count": 174,
   "id": "c2198837",
   "metadata": {},
   "outputs": [
    {
     "data": {
      "text/plain": [
       "11979.34"
      ]
     },
     "execution_count": 174,
     "metadata": {},
     "output_type": "execute_result"
    }
   ],
   "source": [
    "df_telco[\"Total Revenue\"].max()"
   ]
  },
  {
   "cell_type": "code",
   "execution_count": 175,
   "id": "42fad506",
   "metadata": {},
   "outputs": [
    {
     "data": {
      "text/html": [
       "<div>\n",
       "<style scoped>\n",
       "    .dataframe tbody tr th:only-of-type {\n",
       "        vertical-align: middle;\n",
       "    }\n",
       "\n",
       "    .dataframe tbody tr th {\n",
       "        vertical-align: top;\n",
       "    }\n",
       "\n",
       "    .dataframe thead th {\n",
       "        text-align: right;\n",
       "    }\n",
       "</style>\n",
       "<table border=\"1\" class=\"dataframe\">\n",
       "  <thead>\n",
       "    <tr style=\"text-align: right;\">\n",
       "      <th></th>\n",
       "      <th>Customer ID</th>\n",
       "      <th>Country</th>\n",
       "      <th>State</th>\n",
       "      <th>City</th>\n",
       "      <th>Zip Code</th>\n",
       "      <th>Lat Long</th>\n",
       "      <th>Latitude</th>\n",
       "      <th>Longitude</th>\n",
       "      <th>Gender</th>\n",
       "      <th>Senior Citizen</th>\n",
       "      <th>...</th>\n",
       "      <th>Internet Type</th>\n",
       "      <th>Avg Monthly GB Download</th>\n",
       "      <th>Device Protection Plan</th>\n",
       "      <th>Premium Tech Support</th>\n",
       "      <th>Streaming Music</th>\n",
       "      <th>Unlimited Data</th>\n",
       "      <th>Total Refunds</th>\n",
       "      <th>Total Extra Data Charges</th>\n",
       "      <th>Total Revenue</th>\n",
       "      <th>Satisfaction Score</th>\n",
       "    </tr>\n",
       "  </thead>\n",
       "  <tbody>\n",
       "    <tr>\n",
       "      <th>3799</th>\n",
       "      <td>0164-APGRB</td>\n",
       "      <td>United States</td>\n",
       "      <td>California</td>\n",
       "      <td>Calistoga</td>\n",
       "      <td>94515</td>\n",
       "      <td>38.629618, -122.593216</td>\n",
       "      <td>38.629618</td>\n",
       "      <td>-122.593216</td>\n",
       "      <td>Female</td>\n",
       "      <td>No</td>\n",
       "      <td>...</td>\n",
       "      <td>Fiber Optic</td>\n",
       "      <td>5</td>\n",
       "      <td>Yes</td>\n",
       "      <td>Yes</td>\n",
       "      <td>Yes</td>\n",
       "      <td>Yes</td>\n",
       "      <td>0.0</td>\n",
       "      <td>0</td>\n",
       "      <td>11979.34</td>\n",
       "      <td>4</td>\n",
       "    </tr>\n",
       "  </tbody>\n",
       "</table>\n",
       "<p>1 rows × 47 columns</p>\n",
       "</div>"
      ],
      "text/plain": [
       "     Customer ID        Country       State       City  Zip Code  \\\n",
       "3799  0164-APGRB  United States  California  Calistoga     94515   \n",
       "\n",
       "                    Lat Long   Latitude   Longitude  Gender Senior Citizen  \\\n",
       "3799  38.629618, -122.593216  38.629618 -122.593216  Female             No   \n",
       "\n",
       "      ... Internet Type Avg Monthly GB Download  Device Protection Plan  \\\n",
       "3799  ...   Fiber Optic                       5                     Yes   \n",
       "\n",
       "     Premium Tech Support Streaming Music Unlimited Data Total Refunds  \\\n",
       "3799                  Yes             Yes            Yes           0.0   \n",
       "\n",
       "     Total Extra Data Charges Total Revenue Satisfaction Score  \n",
       "3799                        0      11979.34                  4  \n",
       "\n",
       "[1 rows x 47 columns]"
      ]
     },
     "execution_count": 175,
     "metadata": {},
     "output_type": "execute_result"
    }
   ],
   "source": [
    "df_telco[df_telco[\"Total Revenue\"]==11979.34]"
   ]
  },
  {
   "cell_type": "markdown",
   "id": "e7fa7239",
   "metadata": {},
   "source": [
    "### The best costumers for CLTV"
   ]
  },
  {
   "cell_type": "code",
   "execution_count": 176,
   "id": "c1218f32",
   "metadata": {},
   "outputs": [
    {
     "data": {
      "text/plain": [
       "6500"
      ]
     },
     "execution_count": 176,
     "metadata": {},
     "output_type": "execute_result"
    }
   ],
   "source": [
    "df_telco[\"CLTV\"].max()"
   ]
  },
  {
   "cell_type": "code",
   "execution_count": 177,
   "id": "fa2668c8",
   "metadata": {},
   "outputs": [
    {
     "data": {
      "text/html": [
       "<div>\n",
       "<style scoped>\n",
       "    .dataframe tbody tr th:only-of-type {\n",
       "        vertical-align: middle;\n",
       "    }\n",
       "\n",
       "    .dataframe tbody tr th {\n",
       "        vertical-align: top;\n",
       "    }\n",
       "\n",
       "    .dataframe thead th {\n",
       "        text-align: right;\n",
       "    }\n",
       "</style>\n",
       "<table border=\"1\" class=\"dataframe\">\n",
       "  <thead>\n",
       "    <tr style=\"text-align: right;\">\n",
       "      <th></th>\n",
       "      <th>Customer ID</th>\n",
       "      <th>Country</th>\n",
       "      <th>State</th>\n",
       "      <th>City</th>\n",
       "      <th>Zip Code</th>\n",
       "      <th>Lat Long</th>\n",
       "      <th>Latitude</th>\n",
       "      <th>Longitude</th>\n",
       "      <th>Gender</th>\n",
       "      <th>Senior Citizen</th>\n",
       "      <th>...</th>\n",
       "      <th>Internet Type</th>\n",
       "      <th>Avg Monthly GB Download</th>\n",
       "      <th>Device Protection Plan</th>\n",
       "      <th>Premium Tech Support</th>\n",
       "      <th>Streaming Music</th>\n",
       "      <th>Unlimited Data</th>\n",
       "      <th>Total Refunds</th>\n",
       "      <th>Total Extra Data Charges</th>\n",
       "      <th>Total Revenue</th>\n",
       "      <th>Satisfaction Score</th>\n",
       "    </tr>\n",
       "  </thead>\n",
       "  <tbody>\n",
       "    <tr>\n",
       "      <th>3482</th>\n",
       "      <td>7622-FWGEW</td>\n",
       "      <td>United States</td>\n",
       "      <td>California</td>\n",
       "      <td>Costa Mesa</td>\n",
       "      <td>92626</td>\n",
       "      <td>33.678591, -117.905471</td>\n",
       "      <td>33.678591</td>\n",
       "      <td>-117.905471</td>\n",
       "      <td>Male</td>\n",
       "      <td>Yes</td>\n",
       "      <td>...</td>\n",
       "      <td>DSL</td>\n",
       "      <td>30</td>\n",
       "      <td>Yes</td>\n",
       "      <td>Yes</td>\n",
       "      <td>No</td>\n",
       "      <td>Yes</td>\n",
       "      <td>0.0</td>\n",
       "      <td>0</td>\n",
       "      <td>6598.53</td>\n",
       "      <td>3</td>\n",
       "    </tr>\n",
       "  </tbody>\n",
       "</table>\n",
       "<p>1 rows × 47 columns</p>\n",
       "</div>"
      ],
      "text/plain": [
       "     Customer ID        Country       State        City  Zip Code  \\\n",
       "3482  7622-FWGEW  United States  California  Costa Mesa     92626   \n",
       "\n",
       "                    Lat Long   Latitude   Longitude Gender Senior Citizen  \\\n",
       "3482  33.678591, -117.905471  33.678591 -117.905471   Male            Yes   \n",
       "\n",
       "      ... Internet Type Avg Monthly GB Download  Device Protection Plan  \\\n",
       "3482  ...           DSL                      30                     Yes   \n",
       "\n",
       "     Premium Tech Support Streaming Music Unlimited Data Total Refunds  \\\n",
       "3482                  Yes              No            Yes           0.0   \n",
       "\n",
       "     Total Extra Data Charges Total Revenue Satisfaction Score  \n",
       "3482                        0       6598.53                  3  \n",
       "\n",
       "[1 rows x 47 columns]"
      ]
     },
     "execution_count": 177,
     "metadata": {},
     "output_type": "execute_result"
    }
   ],
   "source": [
    "df_telco[df_telco[\"CLTV\"]==6500]"
   ]
  },
  {
   "cell_type": "code",
   "execution_count": 178,
   "id": "4d4eab33",
   "metadata": {},
   "outputs": [
    {
     "data": {
      "text/plain": [
       "Index(['Customer ID', 'Country', 'State', 'City', 'Zip Code', 'Lat Long',\n",
       "       'Latitude', 'Longitude', 'Gender', 'Senior Citizen', 'Partner',\n",
       "       'Dependents', 'Tenure Months', 'Phone Service', 'Multiple Lines',\n",
       "       'Internet Service', 'Online Security', 'Online Backup',\n",
       "       'Device Protection', 'Tech Support', 'Streaming TV', 'Streaming Movies',\n",
       "       'Contract', 'Paperless Billing', 'Payment Method', 'Monthly Charges',\n",
       "       'Churn Value', 'Churn Score', 'CLTV', 'Age', 'Under 30', 'Married',\n",
       "       'Number of Dependents', 'Referred a Friend', 'Number of Referrals',\n",
       "       'Offer', 'Avg Monthly Long Distance Charges', 'Internet Type',\n",
       "       'Avg Monthly GB Download', 'Device Protection Plan',\n",
       "       'Premium Tech Support', 'Streaming Music', 'Unlimited Data',\n",
       "       'Total Refunds', 'Total Extra Data Charges', 'Total Revenue',\n",
       "       'Satisfaction Score'],\n",
       "      dtype='object')"
      ]
     },
     "execution_count": 178,
     "metadata": {},
     "output_type": "execute_result"
    }
   ],
   "source": [
    "df_telco.columns"
   ]
  },
  {
   "cell_type": "markdown",
   "id": "1c28b3cc",
   "metadata": {},
   "source": [
    "### Total extra data charges per internet service per contract type"
   ]
  },
  {
   "cell_type": "code",
   "execution_count": 179,
   "id": "a4000edd",
   "metadata": {
    "scrolled": false
   },
   "outputs": [
    {
     "data": {
      "text/plain": [
       "Contract        Internet Service\n",
       "Month-to-month  DSL                  8580\n",
       "                Fiber optic         16990\n",
       "                No                      0\n",
       "One year        DSL                  6010\n",
       "                Fiber optic          5910\n",
       "                No                      0\n",
       "Two year        DSL                  6900\n",
       "                Fiber optic          3930\n",
       "                No                      0\n",
       "Name: Total Extra Data Charges, dtype: int64"
      ]
     },
     "execution_count": 179,
     "metadata": {},
     "output_type": "execute_result"
    }
   ],
   "source": [
    "df_telco.groupby(['Contract','Internet Service'])['Total Extra Data Charges'].sum()"
   ]
  },
  {
   "cell_type": "code",
   "execution_count": 180,
   "id": "911b448d",
   "metadata": {
    "scrolled": false
   },
   "outputs": [
    {
     "data": {
      "text/plain": [
       "<matplotlib.legend.Legend at 0x21ad0b5f220>"
      ]
     },
     "execution_count": 180,
     "metadata": {},
     "output_type": "execute_result"
    },
    {
     "data": {
      "image/png": "[encoded data removed]",
      "text/plain": [
       "<Figure size 720x720 with 1 Axes>"
      ]
     },
     "metadata": {
      "needs_background": "light"
     },
     "output_type": "display_data"
    }
   ],
   "source": [
    "df_telco.groupby(['Internet Service', 'Contract'])['Total Extra Data Charges'].sum().unstack().plot(kind=\"bar\", figsize=(10,10)).legend(loc='center left', bbox_to_anchor=(1, 0.5))"
   ]
  },
  {
   "cell_type": "markdown",
   "id": "a9cac701",
   "metadata": {},
   "source": [
    "### Total revenue per age per contract type"
   ]
  },
  {
   "cell_type": "code",
   "execution_count": 181,
   "id": "98df0740",
   "metadata": {
    "scrolled": true
   },
   "outputs": [
    {
     "data": {
      "text/plain": [
       "Age  Contract      \n",
       "19   Month-to-month     85831.92\n",
       "     One year          142155.27\n",
       "     Two year          124707.04\n",
       "20   Month-to-month    119050.68\n",
       "     One year          144458.12\n",
       "                         ...    \n",
       "79   One year           64860.25\n",
       "     Two year           50276.63\n",
       "80   Month-to-month    105856.97\n",
       "     One year           71628.24\n",
       "     Two year           54410.61\n",
       "Name: Total Revenue, Length: 186, dtype: float64"
      ]
     },
     "execution_count": 181,
     "metadata": {},
     "output_type": "execute_result"
    }
   ],
   "source": [
    "df_telco.groupby(['Age','Contract'])['Total Revenue'].sum()"
   ]
  },
  {
   "cell_type": "code",
   "execution_count": 182,
   "id": "2336d790",
   "metadata": {},
   "outputs": [
    {
     "data": {
      "text/plain": [
       "<matplotlib.legend.Legend at 0x21ad276a3d0>"
      ]
     },
     "execution_count": 182,
     "metadata": {},
     "output_type": "execute_result"
    },
    {
     "data": {
      "image/png": "[encoded data removed]",
      "text/plain": [
       "<Figure size 720x720 with 1 Axes>"
      ]
     },
     "metadata": {
      "needs_background": "light"
     },
     "output_type": "display_data"
    }
   ],
   "source": [
    "df_telco.groupby(['Age','Contract'])['Total Revenue'].sum().unstack().plot(kind=\"area\", figsize=(10,10)).legend(loc='center left', bbox_to_anchor=(1, 0.5))"
   ]
  },
  {
   "cell_type": "markdown",
   "id": "e246ec6f",
   "metadata": {},
   "source": [
    "### Satisfaction Score per contract type"
   ]
  },
  {
   "cell_type": "code",
   "execution_count": 183,
   "id": "e3ace33e",
   "metadata": {
    "scrolled": true
   },
   "outputs": [
    {
     "data": {
      "text/plain": [
       "Contract\n",
       "Month-to-month    2.936516\n",
       "One year          3.563476\n",
       "Two year          3.673156\n",
       "Name: Satisfaction Score, dtype: float64"
      ]
     },
     "execution_count": 183,
     "metadata": {},
     "output_type": "execute_result"
    }
   ],
   "source": [
    "df_telco.groupby(['Contract'])['Satisfaction Score'].mean()"
   ]
  },
  {
   "cell_type": "code",
   "execution_count": 184,
   "id": "1d616ff5",
   "metadata": {},
   "outputs": [
    {
     "data": {
      "text/plain": [
       "<matplotlib.legend.Legend at 0x21ad1646160>"
      ]
     },
     "execution_count": 184,
     "metadata": {},
     "output_type": "execute_result"
    },
    {
     "data": {
      "image/png": "[encoded data removed]",
      "text/plain": [
       "<Figure size 720x720 with 1 Axes>"
      ]
     },
     "metadata": {
      "needs_background": "light"
     },
     "output_type": "display_data"
    }
   ],
   "source": [
    "df_telco.groupby(['Contract'])['Satisfaction Score'].mean().plot(kind=\"barh\", figsize=(10,10)).legend(loc='center left', bbox_to_anchor=(1, 0.5))"
   ]
  },
  {
   "cell_type": "markdown",
   "id": "4c857302",
   "metadata": {},
   "source": [
    "## Model Preparation"
   ]
  },
  {
   "cell_type": "code",
   "execution_count": 185,
   "id": "7ccffe1b",
   "metadata": {},
   "outputs": [
    {
     "data": {
      "text/plain": [
       "State                                 object\n",
       "City                                  object\n",
       "Zip Code                              object\n",
       "Latitude                             float64\n",
       "Longitude                            float64\n",
       "Gender                                object\n",
       "Senior Citizen                        object\n",
       "Partner                               object\n",
       "Phone Service                         object\n",
       "Multiple Lines                        object\n",
       "Age                                    int64\n",
       "Under 30                              object\n",
       "Married                               object\n",
       "Number of Dependents                   int64\n",
       "Dependents                            object\n",
       "Referred a Friend                     object\n",
       "Number of Referrals                    int64\n",
       "Offer                                 object\n",
       "Internet Service                      object\n",
       "Online Security                       object\n",
       "Online Backup                         object\n",
       "Device Protection                     object\n",
       "Tech Support                          object\n",
       "Streaming TV                          object\n",
       "Streaming Movies                      object\n",
       "Contract                              object\n",
       "Paperless Billing                     object\n",
       "Payment Method                        object\n",
       "Churn Value                            int64\n",
       "Churn Score                            int64\n",
       "Avg Monthly Long Distance Charges    float64\n",
       "Internet Type                         object\n",
       "Avg Monthly GB Download                int64\n",
       "Device Protection Plan                object\n",
       "Premium Tech Support                  object\n",
       "Streaming Music                       object\n",
       "Unlimited Data                        object\n",
       "Monthly Charges                      float64\n",
       "Total Refunds                        float64\n",
       "Total Extra Data Charges               int64\n",
       "Total Revenue                        float64\n",
       "Tenure Months                          int64\n",
       "CLTV                                   int64\n",
       "Satisfaction Score                     int64\n",
       "dtype: object"
      ]
     },
     "execution_count": 185,
     "metadata": {},
     "output_type": "execute_result"
    }
   ],
   "source": [
    "df_selected.dtypes"
   ]
  },
  {
   "cell_type": "code",
   "execution_count": 186,
   "id": "61cd2231",
   "metadata": {},
   "outputs": [],
   "source": [
    "df_selected.to_csv('telco_cltv.csv',sep=';',header=True, index=True, decimal=',')"
   ]
  },
  {
   "cell_type": "code",
   "execution_count": 187,
   "id": "39ce1521",
   "metadata": {},
   "outputs": [],
   "source": [
    "df_selected = df_selected.drop(labels=['Zip Code','Latitude','Longitude'], axis=1)"
   ]
  },
  {
   "cell_type": "code",
   "execution_count": 188,
   "id": "834963cd",
   "metadata": {},
   "outputs": [],
   "source": [
    "numerical_features = df_selected.select_dtypes(include=['float64', 'int64']).columns\n",
    "categorical_features = df_selected.select_dtypes(include=['object']).columns"
   ]
  },
  {
   "cell_type": "code",
   "execution_count": 189,
   "id": "94654a1e",
   "metadata": {},
   "outputs": [
    {
     "data": {
      "text/plain": [
       "Index(['Age', 'Number of Dependents', 'Number of Referrals', 'Churn Value',\n",
       "       'Churn Score', 'Avg Monthly Long Distance Charges',\n",
       "       'Avg Monthly GB Download', 'Monthly Charges', 'Total Refunds',\n",
       "       'Total Extra Data Charges', 'Total Revenue', 'Tenure Months', 'CLTV',\n",
       "       'Satisfaction Score'],\n",
       "      dtype='object')"
      ]
     },
     "execution_count": 189,
     "metadata": {},
     "output_type": "execute_result"
    }
   ],
   "source": [
    "numerical_features"
   ]
  },
  {
   "cell_type": "code",
   "execution_count": 190,
   "id": "bc52ef20",
   "metadata": {},
   "outputs": [],
   "source": [
    "df_model=pd.concat([df_selected[numerical_features], df_selected[categorical_features]], axis=1)"
   ]
  },
  {
   "cell_type": "code",
   "execution_count": 191,
   "id": "477fdac9",
   "metadata": {},
   "outputs": [],
   "source": [
    "# from sklearn.preprocessing import StandardScaler\n",
    "\n",
    "# features = df_model[numerical_features]\n",
    "# scaler = RobustScaler().fit(features.values)\n",
    "\n",
    "# features = scaler.transform(features.values)\n",
    "\n",
    "# df_model[numerical_features] = features\n",
    "# df_model.head()"
   ]
  },
  {
   "cell_type": "code",
   "execution_count": 192,
   "id": "2746171f",
   "metadata": {
    "scrolled": true
   },
   "outputs": [
    {
     "name": "stdout",
     "output_type": "stream",
     "text": [
      "*********************************\n",
      "Age\n",
      "42    156\n",
      "47    153\n",
      "40    150\n",
      "44    148\n",
      "23    146\n",
      "     ... \n",
      "80     66\n",
      "78     63\n",
      "66     63\n",
      "67     61\n",
      "72     58\n",
      "Name: Age, Length: 62, dtype: int64\n",
      "*********************************\n",
      "Number of Dependents\n",
      "0    5416\n",
      "1     553\n",
      "2     531\n",
      "3     517\n",
      "5      10\n",
      "4       9\n",
      "6       3\n",
      "7       2\n",
      "8       1\n",
      "9       1\n",
      "Name: Number of Dependents, dtype: int64\n",
      "*********************************\n",
      "Number of Referrals\n",
      "0     3821\n",
      "1     1086\n",
      "5      264\n",
      "3      255\n",
      "7      248\n",
      "9      238\n",
      "4      236\n",
      "2      236\n",
      "10     223\n",
      "6      221\n",
      "8      213\n",
      "11       2\n",
      "Name: Number of Referrals, dtype: int64\n",
      "*********************************\n",
      "Churn Value\n",
      "0    5174\n",
      "1    1869\n",
      "Name: Churn Value, dtype: int64\n",
      "*********************************\n",
      "Churn Score\n",
      "80    151\n",
      "71    148\n",
      "77    145\n",
      "67    143\n",
      "76    141\n",
      "     ... \n",
      "88     33\n",
      "9       3\n",
      "7       2\n",
      "8       2\n",
      "5       1\n",
      "Name: Churn Score, Length: 85, dtype: int64\n",
      "*********************************\n",
      "Avg Monthly Long Distance Charges\n",
      "0.00     682\n",
      "18.26      7\n",
      "42.55      6\n",
      "27.97      6\n",
      "30.09      6\n",
      "        ... \n",
      "13.91      1\n",
      "40.91      1\n",
      "25.02      1\n",
      "34.99      1\n",
      "15.79      1\n",
      "Name: Avg Monthly Long Distance Charges, Length: 3584, dtype: int64\n",
      "*********************************\n",
      "Avg Monthly GB Download\n",
      "0     1526\n",
      "19     220\n",
      "27     199\n",
      "30     193\n",
      "59     192\n",
      "26     191\n",
      "23     179\n",
      "22     172\n",
      "21     171\n",
      "18     164\n",
      "13     164\n",
      "16     155\n",
      "17     155\n",
      "20     151\n",
      "24     148\n",
      "28     147\n",
      "11     145\n",
      "12     143\n",
      "29     138\n",
      "10     132\n",
      "15     132\n",
      "14     131\n",
      "3      130\n",
      "25     130\n",
      "4      129\n",
      "52     121\n",
      "8      120\n",
      "7      116\n",
      "2      116\n",
      "9      116\n",
      "6      114\n",
      "5      114\n",
      "51      90\n",
      "53      88\n",
      "48      86\n",
      "73      81\n",
      "69      75\n",
      "41      67\n",
      "76      58\n",
      "85      48\n",
      "58      45\n",
      "42      45\n",
      "82      43\n",
      "71      42\n",
      "47      36\n",
      "57      34\n",
      "46      19\n",
      "56      16\n",
      "75      15\n",
      "39       1\n",
      "Name: Avg Monthly GB Download, dtype: int64\n",
      "*********************************\n",
      "Monthly Charges\n",
      "20.05    61\n",
      "19.85    45\n",
      "19.90    44\n",
      "19.95    44\n",
      "19.65    43\n",
      "         ..\n",
      "34.40     1\n",
      "39.55     1\n",
      "39.95     1\n",
      "18.55     1\n",
      "97.25     1\n",
      "Name: Monthly Charges, Length: 1585, dtype: int64\n",
      "*********************************\n",
      "Total Refunds\n",
      "0.00     6518\n",
      "20.45       2\n",
      "27.60       2\n",
      "47.04       2\n",
      "49.57       2\n",
      "         ... \n",
      "31.05       1\n",
      "23.16       1\n",
      "24.99       1\n",
      "2.24        1\n",
      "7.30        1\n",
      "Name: Total Refunds, Length: 500, dtype: int64\n",
      "*********************************\n",
      "Total Extra Data Charges\n",
      "0      6315\n",
      "10      138\n",
      "40       62\n",
      "30       58\n",
      "20       51\n",
      "80       47\n",
      "100      44\n",
      "50       43\n",
      "150      42\n",
      "130      40\n",
      "140      38\n",
      "60       36\n",
      "90       35\n",
      "70       34\n",
      "110      32\n",
      "120      28\n",
      "Name: Total Extra Data Charges, dtype: int64\n",
      "*********************************\n",
      "Total Revenue\n",
      "68.41      3\n",
      "66.56      3\n",
      "24.80      3\n",
      "35.90      2\n",
      "32.06      2\n",
      "          ..\n",
      "1377.81    1\n",
      "388.21     1\n",
      "196.51     1\n",
      "5965.43    1\n",
      "2570.99    1\n",
      "Name: Total Revenue, Length: 6996, dtype: int64\n",
      "*********************************\n",
      "Tenure Months\n",
      "1     613\n",
      "72    362\n",
      "2     238\n",
      "3     200\n",
      "4     176\n",
      "     ... \n",
      "28     57\n",
      "39     56\n",
      "44     51\n",
      "36     50\n",
      "0      11\n",
      "Name: Tenure Months, Length: 73, dtype: int64\n",
      "*********************************\n",
      "CLTV\n",
      "5546    8\n",
      "5461    7\n",
      "5137    7\n",
      "5915    7\n",
      "4115    7\n",
      "       ..\n",
      "5943    1\n",
      "5935    1\n",
      "5927    1\n",
      "3872    1\n",
      "6177    1\n",
      "Name: CLTV, Length: 3438, dtype: int64\n",
      "*********************************\n",
      "Satisfaction Score\n",
      "3    2665\n",
      "4    1789\n",
      "5    1149\n",
      "1     922\n",
      "2     518\n",
      "Name: Satisfaction Score, dtype: int64\n",
      "*********************************\n",
      "State\n",
      "California    7043\n",
      "Name: State, dtype: int64\n",
      "*********************************\n",
      "City\n",
      "Los Angeles      305\n",
      "San Diego        150\n",
      "San Jose         112\n",
      "Sacramento       108\n",
      "San Francisco    104\n",
      "                ... \n",
      "Forest Knolls      4\n",
      "Terra Bella        4\n",
      "Mineral            4\n",
      "Westwood           4\n",
      "Firebaugh          4\n",
      "Name: City, Length: 1129, dtype: int64\n",
      "*********************************\n",
      "Gender\n",
      "Male      3555\n",
      "Female    3488\n",
      "Name: Gender, dtype: int64\n",
      "*********************************\n",
      "Senior Citizen\n",
      "No     5901\n",
      "Yes    1142\n",
      "Name: Senior Citizen, dtype: int64\n",
      "*********************************\n",
      "Partner\n",
      "No     3641\n",
      "Yes    3402\n",
      "Name: Partner, dtype: int64\n",
      "*********************************\n",
      "Phone Service\n",
      "Yes    6361\n",
      "No      682\n",
      "Name: Phone Service, dtype: int64\n",
      "*********************************\n",
      "Multiple Lines\n",
      "No                  3390\n",
      "Yes                 2971\n",
      "No phone service     682\n",
      "Name: Multiple Lines, dtype: int64\n",
      "*********************************\n",
      "Under 30\n",
      "No     5642\n",
      "Yes    1401\n",
      "Name: Under 30, dtype: int64\n",
      "*********************************\n",
      "Married\n",
      "No     3641\n",
      "Yes    3402\n",
      "Name: Married, dtype: int64\n",
      "*********************************\n",
      "Dependents\n",
      "No     5416\n",
      "Yes    1627\n",
      "Name: Dependents, dtype: int64\n",
      "*********************************\n",
      "Referred a Friend\n",
      "No     3821\n",
      "Yes    3222\n",
      "Name: Referred a Friend, dtype: int64\n",
      "*********************************\n",
      "Offer\n",
      "None       3877\n",
      "Offer B     824\n",
      "Offer E     805\n",
      "Offer D     602\n",
      "Offer A     520\n",
      "Offer C     415\n",
      "Name: Offer, dtype: int64\n",
      "*********************************\n",
      "Internet Service\n",
      "Fiber optic    3096\n",
      "DSL            2421\n",
      "No             1526\n",
      "Name: Internet Service, dtype: int64\n",
      "*********************************\n",
      "Online Security\n",
      "No                     3498\n",
      "Yes                    2019\n",
      "No internet service    1526\n",
      "Name: Online Security, dtype: int64\n",
      "*********************************\n",
      "Online Backup\n",
      "No                     3088\n",
      "Yes                    2429\n",
      "No internet service    1526\n",
      "Name: Online Backup, dtype: int64\n",
      "*********************************\n",
      "Device Protection\n",
      "No                     3095\n",
      "Yes                    2422\n",
      "No internet service    1526\n",
      "Name: Device Protection, dtype: int64\n",
      "*********************************\n",
      "Tech Support\n",
      "No                     3473\n",
      "Yes                    2044\n",
      "No internet service    1526\n",
      "Name: Tech Support, dtype: int64\n",
      "*********************************\n",
      "Streaming TV\n",
      "No                     2810\n",
      "Yes                    2707\n",
      "No internet service    1526\n",
      "Name: Streaming TV, dtype: int64\n",
      "*********************************\n",
      "Streaming Movies\n",
      "No                     2785\n",
      "Yes                    2732\n",
      "No internet service    1526\n",
      "Name: Streaming Movies, dtype: int64\n",
      "*********************************\n",
      "Contract\n",
      "Month-to-month    3875\n",
      "Two year          1695\n",
      "One year          1473\n",
      "Name: Contract, dtype: int64\n",
      "*********************************\n",
      "Paperless Billing\n",
      "Yes    4171\n",
      "No     2872\n",
      "Name: Paperless Billing, dtype: int64\n",
      "*********************************\n",
      "Payment Method\n",
      "Electronic check             2365\n",
      "Mailed check                 1612\n",
      "Bank transfer (automatic)    1544\n",
      "Credit card (automatic)      1522\n",
      "Name: Payment Method, dtype: int64\n",
      "*********************************\n",
      "Internet Type\n",
      "Fiber Optic    3035\n",
      "DSL            1652\n",
      "None           1526\n",
      "Cable           830\n",
      "Name: Internet Type, dtype: int64\n",
      "*********************************\n",
      "Device Protection Plan\n",
      "No     4621\n",
      "Yes    2422\n",
      "Name: Device Protection Plan, dtype: int64\n",
      "*********************************\n",
      "Premium Tech Support\n",
      "No     4999\n",
      "Yes    2044\n",
      "Name: Premium Tech Support, dtype: int64\n",
      "*********************************\n",
      "Streaming Music\n",
      "No     4555\n",
      "Yes    2488\n",
      "Name: Streaming Music, dtype: int64\n",
      "*********************************\n",
      "Unlimited Data\n",
      "Yes    4745\n",
      "No     2298\n",
      "Name: Unlimited Data, dtype: int64\n"
     ]
    }
   ],
   "source": [
    "for i in df_model.columns:\n",
    "    print('*********************************')\n",
    "    print(i)\n",
    "    x = df_model[i].value_counts()\n",
    "    print(x)"
   ]
  },
  {
   "cell_type": "markdown",
   "id": "2acdb0b4",
   "metadata": {},
   "source": [
    "# PCA"
   ]
  },
  {
   "cell_type": "code",
   "execution_count": 193,
   "id": "59476aea",
   "metadata": {},
   "outputs": [
    {
     "data": {
      "text/html": [
       "<div>\n",
       "<style scoped>\n",
       "    .dataframe tbody tr th:only-of-type {\n",
       "        vertical-align: middle;\n",
       "    }\n",
       "\n",
       "    .dataframe tbody tr th {\n",
       "        vertical-align: top;\n",
       "    }\n",
       "\n",
       "    .dataframe thead th {\n",
       "        text-align: right;\n",
       "    }\n",
       "</style>\n",
       "<table border=\"1\" class=\"dataframe\">\n",
       "  <thead>\n",
       "    <tr style=\"text-align: right;\">\n",
       "      <th></th>\n",
       "      <th>State</th>\n",
       "      <th>City</th>\n",
       "      <th>Gender</th>\n",
       "      <th>Senior Citizen</th>\n",
       "      <th>Partner</th>\n",
       "      <th>Phone Service</th>\n",
       "      <th>Multiple Lines</th>\n",
       "      <th>Under 30</th>\n",
       "      <th>Married</th>\n",
       "      <th>Dependents</th>\n",
       "      <th>...</th>\n",
       "      <th>Streaming TV</th>\n",
       "      <th>Streaming Movies</th>\n",
       "      <th>Contract</th>\n",
       "      <th>Paperless Billing</th>\n",
       "      <th>Payment Method</th>\n",
       "      <th>Internet Type</th>\n",
       "      <th>Device Protection Plan</th>\n",
       "      <th>Premium Tech Support</th>\n",
       "      <th>Streaming Music</th>\n",
       "      <th>Unlimited Data</th>\n",
       "    </tr>\n",
       "  </thead>\n",
       "  <tbody>\n",
       "    <tr>\n",
       "      <th>0</th>\n",
       "      <td>California</td>\n",
       "      <td>Los Angeles</td>\n",
       "      <td>Male</td>\n",
       "      <td>No</td>\n",
       "      <td>No</td>\n",
       "      <td>Yes</td>\n",
       "      <td>No</td>\n",
       "      <td>No</td>\n",
       "      <td>No</td>\n",
       "      <td>No</td>\n",
       "      <td>...</td>\n",
       "      <td>No</td>\n",
       "      <td>No</td>\n",
       "      <td>Month-to-month</td>\n",
       "      <td>Yes</td>\n",
       "      <td>Mailed check</td>\n",
       "      <td>DSL</td>\n",
       "      <td>No</td>\n",
       "      <td>No</td>\n",
       "      <td>No</td>\n",
       "      <td>Yes</td>\n",
       "    </tr>\n",
       "    <tr>\n",
       "      <th>1</th>\n",
       "      <td>California</td>\n",
       "      <td>Los Angeles</td>\n",
       "      <td>Female</td>\n",
       "      <td>No</td>\n",
       "      <td>No</td>\n",
       "      <td>Yes</td>\n",
       "      <td>No</td>\n",
       "      <td>Yes</td>\n",
       "      <td>No</td>\n",
       "      <td>Yes</td>\n",
       "      <td>...</td>\n",
       "      <td>No</td>\n",
       "      <td>No</td>\n",
       "      <td>Month-to-month</td>\n",
       "      <td>Yes</td>\n",
       "      <td>Electronic check</td>\n",
       "      <td>Fiber Optic</td>\n",
       "      <td>No</td>\n",
       "      <td>No</td>\n",
       "      <td>No</td>\n",
       "      <td>Yes</td>\n",
       "    </tr>\n",
       "    <tr>\n",
       "      <th>2</th>\n",
       "      <td>California</td>\n",
       "      <td>Los Angeles</td>\n",
       "      <td>Female</td>\n",
       "      <td>No</td>\n",
       "      <td>No</td>\n",
       "      <td>Yes</td>\n",
       "      <td>Yes</td>\n",
       "      <td>No</td>\n",
       "      <td>No</td>\n",
       "      <td>Yes</td>\n",
       "      <td>...</td>\n",
       "      <td>Yes</td>\n",
       "      <td>Yes</td>\n",
       "      <td>Month-to-month</td>\n",
       "      <td>Yes</td>\n",
       "      <td>Electronic check</td>\n",
       "      <td>Cable</td>\n",
       "      <td>Yes</td>\n",
       "      <td>No</td>\n",
       "      <td>Yes</td>\n",
       "      <td>Yes</td>\n",
       "    </tr>\n",
       "  </tbody>\n",
       "</table>\n",
       "<p>3 rows × 27 columns</p>\n",
       "</div>"
      ],
      "text/plain": [
       "        State         City  Gender Senior Citizen Partner Phone Service  \\\n",
       "0  California  Los Angeles    Male             No      No           Yes   \n",
       "1  California  Los Angeles  Female             No      No           Yes   \n",
       "2  California  Los Angeles  Female             No      No           Yes   \n",
       "\n",
       "  Multiple Lines Under 30 Married Dependents  ... Streaming TV  \\\n",
       "0             No       No      No         No  ...           No   \n",
       "1             No      Yes      No        Yes  ...           No   \n",
       "2            Yes       No      No        Yes  ...          Yes   \n",
       "\n",
       "  Streaming Movies        Contract Paperless Billing    Payment Method  \\\n",
       "0               No  Month-to-month               Yes      Mailed check   \n",
       "1               No  Month-to-month               Yes  Electronic check   \n",
       "2              Yes  Month-to-month               Yes  Electronic check   \n",
       "\n",
       "  Internet Type Device Protection Plan Premium Tech Support Streaming Music  \\\n",
       "0           DSL                     No                   No              No   \n",
       "1   Fiber Optic                     No                   No              No   \n",
       "2         Cable                    Yes                   No             Yes   \n",
       "\n",
       "  Unlimited Data  \n",
       "0            Yes  \n",
       "1            Yes  \n",
       "2            Yes  \n",
       "\n",
       "[3 rows x 27 columns]"
      ]
     },
     "execution_count": 193,
     "metadata": {},
     "output_type": "execute_result"
    }
   ],
   "source": [
    "df_cat = df_model[categorical_features]\n",
    "df_cat.head(3)"
   ]
  },
  {
   "cell_type": "code",
   "execution_count": 194,
   "id": "940ad5aa",
   "metadata": {},
   "outputs": [
    {
     "data": {
      "text/plain": [
       "Index(['State', 'City', 'Gender', 'Senior Citizen', 'Partner', 'Phone Service',\n",
       "       'Multiple Lines', 'Under 30', 'Married', 'Dependents',\n",
       "       'Referred a Friend', 'Offer', 'Internet Service', 'Online Security',\n",
       "       'Online Backup', 'Device Protection', 'Tech Support', 'Streaming TV',\n",
       "       'Streaming Movies', 'Contract', 'Paperless Billing', 'Payment Method',\n",
       "       'Internet Type', 'Device Protection Plan', 'Premium Tech Support',\n",
       "       'Streaming Music', 'Unlimited Data'],\n",
       "      dtype='object')"
      ]
     },
     "execution_count": 194,
     "metadata": {},
     "output_type": "execute_result"
    }
   ],
   "source": [
    "df_cat.columns"
   ]
  },
  {
   "cell_type": "code",
   "execution_count": 195,
   "id": "fb87f872",
   "metadata": {},
   "outputs": [],
   "source": [
    "df_cat = df_cat.drop(labels=['State','City', 'Payment Method', 'Paperless Billing', 'Internet Service', 'Offer'], axis=1)"
   ]
  },
  {
   "cell_type": "code",
   "execution_count": 196,
   "id": "31211663",
   "metadata": {},
   "outputs": [
    {
     "data": {
      "text/html": [
       "<div>\n",
       "<style scoped>\n",
       "    .dataframe tbody tr th:only-of-type {\n",
       "        vertical-align: middle;\n",
       "    }\n",
       "\n",
       "    .dataframe tbody tr th {\n",
       "        vertical-align: top;\n",
       "    }\n",
       "\n",
       "    .dataframe thead th {\n",
       "        text-align: right;\n",
       "    }\n",
       "</style>\n",
       "<table border=\"1\" class=\"dataframe\">\n",
       "  <thead>\n",
       "    <tr style=\"text-align: right;\">\n",
       "      <th></th>\n",
       "      <th>Gender_Male</th>\n",
       "      <th>Senior Citizen_Yes</th>\n",
       "      <th>Partner_Yes</th>\n",
       "      <th>Phone Service_Yes</th>\n",
       "      <th>Multiple Lines_No phone service</th>\n",
       "      <th>Multiple Lines_Yes</th>\n",
       "      <th>Under 30_Yes</th>\n",
       "      <th>Married_Yes</th>\n",
       "      <th>Dependents_Yes</th>\n",
       "      <th>Referred a Friend_Yes</th>\n",
       "      <th>...</th>\n",
       "      <th>Streaming Movies_Yes</th>\n",
       "      <th>Contract_One year</th>\n",
       "      <th>Contract_Two year</th>\n",
       "      <th>Internet Type_DSL</th>\n",
       "      <th>Internet Type_Fiber Optic</th>\n",
       "      <th>Internet Type_None</th>\n",
       "      <th>Device Protection Plan_Yes</th>\n",
       "      <th>Premium Tech Support_Yes</th>\n",
       "      <th>Streaming Music_Yes</th>\n",
       "      <th>Unlimited Data_Yes</th>\n",
       "    </tr>\n",
       "  </thead>\n",
       "  <tbody>\n",
       "    <tr>\n",
       "      <th>0</th>\n",
       "      <td>1</td>\n",
       "      <td>0</td>\n",
       "      <td>0</td>\n",
       "      <td>1</td>\n",
       "      <td>0</td>\n",
       "      <td>0</td>\n",
       "      <td>0</td>\n",
       "      <td>0</td>\n",
       "      <td>0</td>\n",
       "      <td>0</td>\n",
       "      <td>...</td>\n",
       "      <td>0</td>\n",
       "      <td>0</td>\n",
       "      <td>0</td>\n",
       "      <td>1</td>\n",
       "      <td>0</td>\n",
       "      <td>0</td>\n",
       "      <td>0</td>\n",
       "      <td>0</td>\n",
       "      <td>0</td>\n",
       "      <td>1</td>\n",
       "    </tr>\n",
       "    <tr>\n",
       "      <th>1</th>\n",
       "      <td>0</td>\n",
       "      <td>0</td>\n",
       "      <td>0</td>\n",
       "      <td>1</td>\n",
       "      <td>0</td>\n",
       "      <td>0</td>\n",
       "      <td>1</td>\n",
       "      <td>0</td>\n",
       "      <td>1</td>\n",
       "      <td>0</td>\n",
       "      <td>...</td>\n",
       "      <td>0</td>\n",
       "      <td>0</td>\n",
       "      <td>0</td>\n",
       "      <td>0</td>\n",
       "      <td>1</td>\n",
       "      <td>0</td>\n",
       "      <td>0</td>\n",
       "      <td>0</td>\n",
       "      <td>0</td>\n",
       "      <td>1</td>\n",
       "    </tr>\n",
       "    <tr>\n",
       "      <th>2</th>\n",
       "      <td>0</td>\n",
       "      <td>0</td>\n",
       "      <td>0</td>\n",
       "      <td>1</td>\n",
       "      <td>0</td>\n",
       "      <td>1</td>\n",
       "      <td>0</td>\n",
       "      <td>0</td>\n",
       "      <td>1</td>\n",
       "      <td>0</td>\n",
       "      <td>...</td>\n",
       "      <td>1</td>\n",
       "      <td>0</td>\n",
       "      <td>0</td>\n",
       "      <td>0</td>\n",
       "      <td>0</td>\n",
       "      <td>0</td>\n",
       "      <td>1</td>\n",
       "      <td>0</td>\n",
       "      <td>1</td>\n",
       "      <td>1</td>\n",
       "    </tr>\n",
       "    <tr>\n",
       "      <th>3</th>\n",
       "      <td>0</td>\n",
       "      <td>0</td>\n",
       "      <td>1</td>\n",
       "      <td>1</td>\n",
       "      <td>0</td>\n",
       "      <td>1</td>\n",
       "      <td>1</td>\n",
       "      <td>1</td>\n",
       "      <td>1</td>\n",
       "      <td>0</td>\n",
       "      <td>...</td>\n",
       "      <td>1</td>\n",
       "      <td>0</td>\n",
       "      <td>0</td>\n",
       "      <td>0</td>\n",
       "      <td>1</td>\n",
       "      <td>0</td>\n",
       "      <td>1</td>\n",
       "      <td>1</td>\n",
       "      <td>1</td>\n",
       "      <td>1</td>\n",
       "    </tr>\n",
       "    <tr>\n",
       "      <th>4</th>\n",
       "      <td>1</td>\n",
       "      <td>0</td>\n",
       "      <td>0</td>\n",
       "      <td>1</td>\n",
       "      <td>0</td>\n",
       "      <td>1</td>\n",
       "      <td>0</td>\n",
       "      <td>0</td>\n",
       "      <td>1</td>\n",
       "      <td>0</td>\n",
       "      <td>...</td>\n",
       "      <td>1</td>\n",
       "      <td>0</td>\n",
       "      <td>0</td>\n",
       "      <td>0</td>\n",
       "      <td>1</td>\n",
       "      <td>0</td>\n",
       "      <td>1</td>\n",
       "      <td>0</td>\n",
       "      <td>1</td>\n",
       "      <td>1</td>\n",
       "    </tr>\n",
       "  </tbody>\n",
       "</table>\n",
       "<p>5 rows × 31 columns</p>\n",
       "</div>"
      ],
      "text/plain": [
       "   Gender_Male  Senior Citizen_Yes  Partner_Yes  Phone Service_Yes  \\\n",
       "0            1                   0            0                  1   \n",
       "1            0                   0            0                  1   \n",
       "2            0                   0            0                  1   \n",
       "3            0                   0            1                  1   \n",
       "4            1                   0            0                  1   \n",
       "\n",
       "   Multiple Lines_No phone service  Multiple Lines_Yes  Under 30_Yes  \\\n",
       "0                                0                   0             0   \n",
       "1                                0                   0             1   \n",
       "2                                0                   1             0   \n",
       "3                                0                   1             1   \n",
       "4                                0                   1             0   \n",
       "\n",
       "   Married_Yes  Dependents_Yes  Referred a Friend_Yes  ...  \\\n",
       "0            0               0                      0  ...   \n",
       "1            0               1                      0  ...   \n",
       "2            0               1                      0  ...   \n",
       "3            1               1                      0  ...   \n",
       "4            0               1                      0  ...   \n",
       "\n",
       "   Streaming Movies_Yes  Contract_One year  Contract_Two year  \\\n",
       "0                     0                  0                  0   \n",
       "1                     0                  0                  0   \n",
       "2                     1                  0                  0   \n",
       "3                     1                  0                  0   \n",
       "4                     1                  0                  0   \n",
       "\n",
       "   Internet Type_DSL  Internet Type_Fiber Optic  Internet Type_None  \\\n",
       "0                  1                          0                   0   \n",
       "1                  0                          1                   0   \n",
       "2                  0                          0                   0   \n",
       "3                  0                          1                   0   \n",
       "4                  0                          1                   0   \n",
       "\n",
       "   Device Protection Plan_Yes  Premium Tech Support_Yes  Streaming Music_Yes  \\\n",
       "0                           0                         0                    0   \n",
       "1                           0                         0                    0   \n",
       "2                           1                         0                    1   \n",
       "3                           1                         1                    1   \n",
       "4                           1                         0                    1   \n",
       "\n",
       "   Unlimited Data_Yes  \n",
       "0                   1  \n",
       "1                   1  \n",
       "2                   1  \n",
       "3                   1  \n",
       "4                   1  \n",
       "\n",
       "[5 rows x 31 columns]"
      ]
     },
     "execution_count": 196,
     "metadata": {},
     "output_type": "execute_result"
    }
   ],
   "source": [
    "df_cat = pd.get_dummies(df_cat, columns = df_cat.columns, drop_first=True)\n",
    "df_cat.head()"
   ]
  },
  {
   "cell_type": "code",
   "execution_count": 197,
   "id": "3e2a0e75",
   "metadata": {},
   "outputs": [],
   "source": [
    "#from sklearn.decomposition import PCA\n",
    "\n",
    "#pca_cat = PCA (n_components=20)\n",
    "#p_comp_transformed_cat = pca_cat.fit_transform(df_cat)\n",
    "#print(p_comp_transformed_cat)"
   ]
  },
  {
   "cell_type": "code",
   "execution_count": 198,
   "id": "b81edff9",
   "metadata": {},
   "outputs": [],
   "source": [
    "#variance_ratio = pca_cat.explained_variance_ratio_\n",
    "\n",
    "#print(variance_ratio)"
   ]
  },
  {
   "cell_type": "code",
   "execution_count": 199,
   "id": "eeb1a9cf",
   "metadata": {},
   "outputs": [],
   "source": [
    "#pca_cat.explained_variance_ratio_.cumsum()"
   ]
  },
  {
   "cell_type": "code",
   "execution_count": 200,
   "id": "87693072",
   "metadata": {},
   "outputs": [],
   "source": [
    "#pca_columns = []\n",
    "\n",
    "#for i in range(len(variance_ratio)):\n",
    "    #x = 'pca_'+ str(i+1)\n",
    "    #pca_columns.append(x)"
   ]
  },
  {
   "cell_type": "code",
   "execution_count": 202,
   "id": "9dc61ac8",
   "metadata": {},
   "outputs": [],
   "source": [
    "#principalDf_cat = pd.DataFrame(data = p_comp_transformed_cat, columns = pca_columns)"
   ]
  },
  {
   "cell_type": "code",
   "execution_count": 203,
   "id": "9ce27e0c",
   "metadata": {},
   "outputs": [],
   "source": [
    "#df_model = pd.concat([df_model[numerical_features], principalDf_cat], axis = 1)"
   ]
  },
  {
   "cell_type": "code",
   "execution_count": 204,
   "id": "3a14c907",
   "metadata": {},
   "outputs": [],
   "source": [
    "df_model = pd.concat([df_model[numerical_features], df_cat], axis = 1)"
   ]
  },
  {
   "cell_type": "code",
   "execution_count": 205,
   "id": "fcc53a0b",
   "metadata": {},
   "outputs": [
    {
     "data": {
      "text/html": [
       "<div>\n",
       "<style scoped>\n",
       "    .dataframe tbody tr th:only-of-type {\n",
       "        vertical-align: middle;\n",
       "    }\n",
       "\n",
       "    .dataframe tbody tr th {\n",
       "        vertical-align: top;\n",
       "    }\n",
       "\n",
       "    .dataframe thead th {\n",
       "        text-align: right;\n",
       "    }\n",
       "</style>\n",
       "<table border=\"1\" class=\"dataframe\">\n",
       "  <thead>\n",
       "    <tr style=\"text-align: right;\">\n",
       "      <th></th>\n",
       "      <th>Age</th>\n",
       "      <th>Number of Dependents</th>\n",
       "      <th>Number of Referrals</th>\n",
       "      <th>Churn Value</th>\n",
       "      <th>Churn Score</th>\n",
       "      <th>Avg Monthly Long Distance Charges</th>\n",
       "      <th>Avg Monthly GB Download</th>\n",
       "      <th>Monthly Charges</th>\n",
       "      <th>Total Refunds</th>\n",
       "      <th>Total Extra Data Charges</th>\n",
       "      <th>...</th>\n",
       "      <th>Streaming Movies_Yes</th>\n",
       "      <th>Contract_One year</th>\n",
       "      <th>Contract_Two year</th>\n",
       "      <th>Internet Type_DSL</th>\n",
       "      <th>Internet Type_Fiber Optic</th>\n",
       "      <th>Internet Type_None</th>\n",
       "      <th>Device Protection Plan_Yes</th>\n",
       "      <th>Premium Tech Support_Yes</th>\n",
       "      <th>Streaming Music_Yes</th>\n",
       "      <th>Unlimited Data_Yes</th>\n",
       "    </tr>\n",
       "  </thead>\n",
       "  <tbody>\n",
       "    <tr>\n",
       "      <th>0</th>\n",
       "      <td>37</td>\n",
       "      <td>0</td>\n",
       "      <td>0</td>\n",
       "      <td>1</td>\n",
       "      <td>86</td>\n",
       "      <td>10.47</td>\n",
       "      <td>21</td>\n",
       "      <td>53.85</td>\n",
       "      <td>0.0</td>\n",
       "      <td>0</td>\n",
       "      <td>...</td>\n",
       "      <td>0</td>\n",
       "      <td>0</td>\n",
       "      <td>0</td>\n",
       "      <td>1</td>\n",
       "      <td>0</td>\n",
       "      <td>0</td>\n",
       "      <td>0</td>\n",
       "      <td>0</td>\n",
       "      <td>0</td>\n",
       "      <td>1</td>\n",
       "    </tr>\n",
       "    <tr>\n",
       "      <th>1</th>\n",
       "      <td>19</td>\n",
       "      <td>2</td>\n",
       "      <td>0</td>\n",
       "      <td>1</td>\n",
       "      <td>67</td>\n",
       "      <td>9.12</td>\n",
       "      <td>51</td>\n",
       "      <td>70.70</td>\n",
       "      <td>0.0</td>\n",
       "      <td>0</td>\n",
       "      <td>...</td>\n",
       "      <td>0</td>\n",
       "      <td>0</td>\n",
       "      <td>0</td>\n",
       "      <td>0</td>\n",
       "      <td>1</td>\n",
       "      <td>0</td>\n",
       "      <td>0</td>\n",
       "      <td>0</td>\n",
       "      <td>0</td>\n",
       "      <td>1</td>\n",
       "    </tr>\n",
       "    <tr>\n",
       "      <th>2</th>\n",
       "      <td>31</td>\n",
       "      <td>2</td>\n",
       "      <td>0</td>\n",
       "      <td>1</td>\n",
       "      <td>86</td>\n",
       "      <td>12.15</td>\n",
       "      <td>26</td>\n",
       "      <td>99.65</td>\n",
       "      <td>0.0</td>\n",
       "      <td>0</td>\n",
       "      <td>...</td>\n",
       "      <td>1</td>\n",
       "      <td>0</td>\n",
       "      <td>0</td>\n",
       "      <td>0</td>\n",
       "      <td>0</td>\n",
       "      <td>0</td>\n",
       "      <td>1</td>\n",
       "      <td>0</td>\n",
       "      <td>1</td>\n",
       "      <td>1</td>\n",
       "    </tr>\n",
       "    <tr>\n",
       "      <th>3</th>\n",
       "      <td>23</td>\n",
       "      <td>3</td>\n",
       "      <td>0</td>\n",
       "      <td>1</td>\n",
       "      <td>84</td>\n",
       "      <td>4.89</td>\n",
       "      <td>47</td>\n",
       "      <td>104.80</td>\n",
       "      <td>0.0</td>\n",
       "      <td>0</td>\n",
       "      <td>...</td>\n",
       "      <td>1</td>\n",
       "      <td>0</td>\n",
       "      <td>0</td>\n",
       "      <td>0</td>\n",
       "      <td>1</td>\n",
       "      <td>0</td>\n",
       "      <td>1</td>\n",
       "      <td>1</td>\n",
       "      <td>1</td>\n",
       "      <td>1</td>\n",
       "    </tr>\n",
       "    <tr>\n",
       "      <th>4</th>\n",
       "      <td>38</td>\n",
       "      <td>1</td>\n",
       "      <td>0</td>\n",
       "      <td>1</td>\n",
       "      <td>89</td>\n",
       "      <td>44.33</td>\n",
       "      <td>11</td>\n",
       "      <td>103.70</td>\n",
       "      <td>0.0</td>\n",
       "      <td>0</td>\n",
       "      <td>...</td>\n",
       "      <td>1</td>\n",
       "      <td>0</td>\n",
       "      <td>0</td>\n",
       "      <td>0</td>\n",
       "      <td>1</td>\n",
       "      <td>0</td>\n",
       "      <td>1</td>\n",
       "      <td>0</td>\n",
       "      <td>1</td>\n",
       "      <td>1</td>\n",
       "    </tr>\n",
       "  </tbody>\n",
       "</table>\n",
       "<p>5 rows × 45 columns</p>\n",
       "</div>"
      ],
      "text/plain": [
       "   Age  Number of Dependents  Number of Referrals  Churn Value  Churn Score  \\\n",
       "0   37                     0                    0            1           86   \n",
       "1   19                     2                    0            1           67   \n",
       "2   31                     2                    0            1           86   \n",
       "3   23                     3                    0            1           84   \n",
       "4   38                     1                    0            1           89   \n",
       "\n",
       "   Avg Monthly Long Distance Charges  Avg Monthly GB Download  \\\n",
       "0                              10.47                       21   \n",
       "1                               9.12                       51   \n",
       "2                              12.15                       26   \n",
       "3                               4.89                       47   \n",
       "4                              44.33                       11   \n",
       "\n",
       "   Monthly Charges  Total Refunds  Total Extra Data Charges  ...  \\\n",
       "0            53.85            0.0                         0  ...   \n",
       "1            70.70            0.0                         0  ...   \n",
       "2            99.65            0.0                         0  ...   \n",
       "3           104.80            0.0                         0  ...   \n",
       "4           103.70            0.0                         0  ...   \n",
       "\n",
       "   Streaming Movies_Yes  Contract_One year  Contract_Two year  \\\n",
       "0                     0                  0                  0   \n",
       "1                     0                  0                  0   \n",
       "2                     1                  0                  0   \n",
       "3                     1                  0                  0   \n",
       "4                     1                  0                  0   \n",
       "\n",
       "   Internet Type_DSL  Internet Type_Fiber Optic  Internet Type_None  \\\n",
       "0                  1                          0                   0   \n",
       "1                  0                          1                   0   \n",
       "2                  0                          0                   0   \n",
       "3                  0                          1                   0   \n",
       "4                  0                          1                   0   \n",
       "\n",
       "   Device Protection Plan_Yes  Premium Tech Support_Yes  Streaming Music_Yes  \\\n",
       "0                           0                         0                    0   \n",
       "1                           0                         0                    0   \n",
       "2                           1                         0                    1   \n",
       "3                           1                         1                    1   \n",
       "4                           1                         0                    1   \n",
       "\n",
       "   Unlimited Data_Yes  \n",
       "0                   1  \n",
       "1                   1  \n",
       "2                   1  \n",
       "3                   1  \n",
       "4                   1  \n",
       "\n",
       "[5 rows x 45 columns]"
      ]
     },
     "execution_count": 205,
     "metadata": {},
     "output_type": "execute_result"
    }
   ],
   "source": [
    "df_model.head()"
   ]
  },
  {
   "cell_type": "code",
   "execution_count": 206,
   "id": "4dfb492c",
   "metadata": {},
   "outputs": [
    {
     "data": {
      "text/plain": [
       "Index(['Age', 'Number of Dependents', 'Number of Referrals', 'Churn Value',\n",
       "       'Churn Score', 'Avg Monthly Long Distance Charges',\n",
       "       'Avg Monthly GB Download', 'Monthly Charges', 'Total Refunds',\n",
       "       'Total Extra Data Charges', 'Total Revenue', 'Tenure Months', 'CLTV',\n",
       "       'Satisfaction Score', 'Gender_Male', 'Senior Citizen_Yes',\n",
       "       'Partner_Yes', 'Phone Service_Yes', 'Multiple Lines_No phone service',\n",
       "       'Multiple Lines_Yes', 'Under 30_Yes', 'Married_Yes', 'Dependents_Yes',\n",
       "       'Referred a Friend_Yes', 'Online Security_No internet service',\n",
       "       'Online Security_Yes', 'Online Backup_No internet service',\n",
       "       'Online Backup_Yes', 'Device Protection_No internet service',\n",
       "       'Device Protection_Yes', 'Tech Support_No internet service',\n",
       "       'Tech Support_Yes', 'Streaming TV_No internet service',\n",
       "       'Streaming TV_Yes', 'Streaming Movies_No internet service',\n",
       "       'Streaming Movies_Yes', 'Contract_One year', 'Contract_Two year',\n",
       "       'Internet Type_DSL', 'Internet Type_Fiber Optic', 'Internet Type_None',\n",
       "       'Device Protection Plan_Yes', 'Premium Tech Support_Yes',\n",
       "       'Streaming Music_Yes', 'Unlimited Data_Yes'],\n",
       "      dtype='object')"
      ]
     },
     "execution_count": 206,
     "metadata": {},
     "output_type": "execute_result"
    }
   ],
   "source": [
    "df_model.columns"
   ]
  },
  {
   "cell_type": "code",
   "execution_count": 306,
   "id": "2441a3cd",
   "metadata": {},
   "outputs": [],
   "source": [
    "prueba = df_model"
   ]
  },
  {
   "cell_type": "code",
   "execution_count": 307,
   "id": "3ded0b2c",
   "metadata": {},
   "outputs": [],
   "source": [
    "prueba = prueba.drop(labels=['Satisfaction Score', 'Total Revenue', 'Tenure Months', 'Churn Value', 'Number of Referrals',\n",
    "                            'Total Extra Data Charges', 'Avg Monthly GB Download','Online Security_No internet service',\n",
    "                             'Online Backup_No internet service','Device Protection_No internet service',\n",
    "                             'Streaming TV_No internet service', 'Tech Support_No internet service', \n",
    "                             'Streaming Movies_No internet service','Dependents_Yes', 'Monthly Charges',  'Churn Score',\n",
    "                             'Avg Monthly Long Distance Charges','Under 30_Yes', 'Married_Yes','Senior Citizen_Yes'], axis=1)"
   ]
  },
  {
   "cell_type": "code",
   "execution_count": 308,
   "id": "12c505f5",
   "metadata": {},
   "outputs": [
    {
     "data": {
      "text/plain": [
       "Index(['Age', 'Number of Dependents', 'Total Refunds', 'CLTV', 'Gender_Male',\n",
       "       'Partner_Yes', 'Phone Service_Yes', 'Multiple Lines_No phone service',\n",
       "       'Multiple Lines_Yes', 'Referred a Friend_Yes', 'Online Security_Yes',\n",
       "       'Online Backup_Yes', 'Device Protection_Yes', 'Tech Support_Yes',\n",
       "       'Streaming TV_Yes', 'Streaming Movies_Yes', 'Contract_One year',\n",
       "       'Contract_Two year', 'Internet Type_DSL', 'Internet Type_Fiber Optic',\n",
       "       'Internet Type_None', 'Device Protection Plan_Yes',\n",
       "       'Premium Tech Support_Yes', 'Streaming Music_Yes',\n",
       "       'Unlimited Data_Yes'],\n",
       "      dtype='object')"
      ]
     },
     "execution_count": 308,
     "metadata": {},
     "output_type": "execute_result"
    }
   ],
   "source": [
    "prueba.columns"
   ]
  },
  {
   "cell_type": "code",
   "execution_count": 309,
   "id": "7401dbcf",
   "metadata": {},
   "outputs": [],
   "source": [
    "#prueba = pd.concat([jan, prueba[['pca_1', 'pca_2', 'pca_3', 'pca_4', 'pca_5', 'pca_6', 'pca_7',\n",
    "       #'pca_8', 'pca_9', 'pca_10', 'pca_11', 'pca_12', 'pca_13', 'pca_14',\n",
    "      # 'pca_15', 'pca_16', 'pca_17', 'pca_18', 'pca_19', 'pca_20']]], axis=1)"
   ]
  },
  {
   "cell_type": "code",
   "execution_count": 310,
   "id": "e33d5b6d",
   "metadata": {},
   "outputs": [
    {
     "data": {
      "text/plain": [
       "<AxesSubplot:>"
      ]
     },
     "execution_count": 310,
     "metadata": {},
     "output_type": "execute_result"
    },
    {
     "data": {
      "image/png": "[encoded data removed]",
      "text/plain": [
       "<Figure size 432x288 with 2 Axes>"
      ]
     },
     "metadata": {
      "needs_background": "light"
     },
     "output_type": "display_data"
    }
   ],
   "source": [
    "sns.heatmap(prueba.corr())"
   ]
  },
  {
   "cell_type": "code",
   "execution_count": 311,
   "id": "0ba4d213",
   "metadata": {},
   "outputs": [
    {
     "data": {
      "text/html": [
       "<div>\n",
       "<style scoped>\n",
       "    .dataframe tbody tr th:only-of-type {\n",
       "        vertical-align: middle;\n",
       "    }\n",
       "\n",
       "    .dataframe tbody tr th {\n",
       "        vertical-align: top;\n",
       "    }\n",
       "\n",
       "    .dataframe thead th {\n",
       "        text-align: right;\n",
       "    }\n",
       "</style>\n",
       "<table border=\"1\" class=\"dataframe\">\n",
       "  <thead>\n",
       "    <tr style=\"text-align: right;\">\n",
       "      <th></th>\n",
       "      <th>Age</th>\n",
       "      <th>Number of Dependents</th>\n",
       "      <th>Total Refunds</th>\n",
       "      <th>CLTV</th>\n",
       "      <th>Gender_Male</th>\n",
       "      <th>Partner_Yes</th>\n",
       "      <th>Phone Service_Yes</th>\n",
       "      <th>Multiple Lines_No phone service</th>\n",
       "      <th>Multiple Lines_Yes</th>\n",
       "      <th>Referred a Friend_Yes</th>\n",
       "      <th>...</th>\n",
       "      <th>Streaming Movies_Yes</th>\n",
       "      <th>Contract_One year</th>\n",
       "      <th>Contract_Two year</th>\n",
       "      <th>Internet Type_DSL</th>\n",
       "      <th>Internet Type_Fiber Optic</th>\n",
       "      <th>Internet Type_None</th>\n",
       "      <th>Device Protection Plan_Yes</th>\n",
       "      <th>Premium Tech Support_Yes</th>\n",
       "      <th>Streaming Music_Yes</th>\n",
       "      <th>Unlimited Data_Yes</th>\n",
       "    </tr>\n",
       "  </thead>\n",
       "  <tbody>\n",
       "    <tr>\n",
       "      <th>Age</th>\n",
       "      <td>1.000000</td>\n",
       "      <td>-0.119000</td>\n",
       "      <td>0.024168</td>\n",
       "      <td>-0.001826</td>\n",
       "      <td>0.002186</td>\n",
       "      <td>-0.003666</td>\n",
       "      <td>0.009965</td>\n",
       "      <td>-0.009965</td>\n",
       "      <td>0.103122</td>\n",
       "      <td>-0.004702</td>\n",
       "      <td>...</td>\n",
       "      <td>0.073458</td>\n",
       "      <td>-0.042309</td>\n",
       "      <td>-0.069663</td>\n",
       "      <td>-0.055639</td>\n",
       "      <td>0.170996</td>\n",
       "      <td>-0.117346</td>\n",
       "      <td>0.028491</td>\n",
       "      <td>-0.043760</td>\n",
       "      <td>-0.155400</td>\n",
       "      <td>0.084353</td>\n",
       "    </tr>\n",
       "    <tr>\n",
       "      <th>Number of Dependents</th>\n",
       "      <td>-0.119000</td>\n",
       "      <td>1.000000</td>\n",
       "      <td>0.014023</td>\n",
       "      <td>0.049611</td>\n",
       "      <td>0.005840</td>\n",
       "      <td>0.324205</td>\n",
       "      <td>-0.010149</td>\n",
       "      <td>0.010149</td>\n",
       "      <td>-0.030307</td>\n",
       "      <td>0.309319</td>\n",
       "      <td>...</td>\n",
       "      <td>-0.065215</td>\n",
       "      <td>0.015091</td>\n",
       "      <td>0.164068</td>\n",
       "      <td>0.008256</td>\n",
       "      <td>-0.139224</td>\n",
       "      <td>0.153137</td>\n",
       "      <td>-0.019925</td>\n",
       "      <td>0.022094</td>\n",
       "      <td>-0.033048</td>\n",
       "      <td>-0.113853</td>\n",
       "    </tr>\n",
       "    <tr>\n",
       "      <th>Total Refunds</th>\n",
       "      <td>0.024168</td>\n",
       "      <td>0.014023</td>\n",
       "      <td>1.000000</td>\n",
       "      <td>0.007992</td>\n",
       "      <td>0.004725</td>\n",
       "      <td>0.040142</td>\n",
       "      <td>0.006331</td>\n",
       "      <td>-0.006331</td>\n",
       "      <td>0.045491</td>\n",
       "      <td>0.038250</td>\n",
       "      <td>...</td>\n",
       "      <td>0.013587</td>\n",
       "      <td>0.005383</td>\n",
       "      <td>0.021195</td>\n",
       "      <td>0.004102</td>\n",
       "      <td>0.022214</td>\n",
       "      <td>-0.020515</td>\n",
       "      <td>0.026038</td>\n",
       "      <td>0.034823</td>\n",
       "      <td>0.003212</td>\n",
       "      <td>0.011101</td>\n",
       "    </tr>\n",
       "    <tr>\n",
       "      <th>CLTV</th>\n",
       "      <td>-0.001826</td>\n",
       "      <td>0.049611</td>\n",
       "      <td>0.007992</td>\n",
       "      <td>1.000000</td>\n",
       "      <td>-0.006851</td>\n",
       "      <td>0.137859</td>\n",
       "      <td>0.023015</td>\n",
       "      <td>-0.023015</td>\n",
       "      <td>0.133568</td>\n",
       "      <td>0.125249</td>\n",
       "      <td>...</td>\n",
       "      <td>0.113000</td>\n",
       "      <td>0.056364</td>\n",
       "      <td>0.233151</td>\n",
       "      <td>0.014095</td>\n",
       "      <td>0.012723</td>\n",
       "      <td>-0.011521</td>\n",
       "      <td>0.120394</td>\n",
       "      <td>0.119132</td>\n",
       "      <td>0.096560</td>\n",
       "      <td>-0.001685</td>\n",
       "    </tr>\n",
       "    <tr>\n",
       "      <th>Gender_Male</th>\n",
       "      <td>0.002186</td>\n",
       "      <td>0.005840</td>\n",
       "      <td>0.004725</td>\n",
       "      <td>-0.006851</td>\n",
       "      <td>1.000000</td>\n",
       "      <td>-0.001808</td>\n",
       "      <td>-0.006488</td>\n",
       "      <td>0.006488</td>\n",
       "      <td>-0.008414</td>\n",
       "      <td>-0.004176</td>\n",
       "      <td>...</td>\n",
       "      <td>-0.010487</td>\n",
       "      <td>0.008026</td>\n",
       "      <td>-0.003695</td>\n",
       "      <td>0.016180</td>\n",
       "      <td>-0.011433</td>\n",
       "      <td>0.006026</td>\n",
       "      <td>-0.002105</td>\n",
       "      <td>-0.009212</td>\n",
       "      <td>-0.007625</td>\n",
       "      <td>-0.000648</td>\n",
       "    </tr>\n",
       "    <tr>\n",
       "      <th>Partner_Yes</th>\n",
       "      <td>-0.003666</td>\n",
       "      <td>0.324205</td>\n",
       "      <td>0.040142</td>\n",
       "      <td>0.137859</td>\n",
       "      <td>-0.001808</td>\n",
       "      <td>1.000000</td>\n",
       "      <td>0.017706</td>\n",
       "      <td>-0.017706</td>\n",
       "      <td>0.142057</td>\n",
       "      <td>0.949987</td>\n",
       "      <td>...</td>\n",
       "      <td>0.117412</td>\n",
       "      <td>0.082783</td>\n",
       "      <td>0.248091</td>\n",
       "      <td>0.000020</td>\n",
       "      <td>-0.002298</td>\n",
       "      <td>0.000615</td>\n",
       "      <td>0.153786</td>\n",
       "      <td>0.119999</td>\n",
       "      <td>0.088700</td>\n",
       "      <td>0.018792</td>\n",
       "    </tr>\n",
       "    <tr>\n",
       "      <th>Phone Service_Yes</th>\n",
       "      <td>0.009965</td>\n",
       "      <td>-0.010149</td>\n",
       "      <td>0.006331</td>\n",
       "      <td>0.023015</td>\n",
       "      <td>-0.006488</td>\n",
       "      <td>0.017706</td>\n",
       "      <td>1.000000</td>\n",
       "      <td>-1.000000</td>\n",
       "      <td>0.279690</td>\n",
       "      <td>0.015418</td>\n",
       "      <td>...</td>\n",
       "      <td>-0.032959</td>\n",
       "      <td>-0.002791</td>\n",
       "      <td>0.003519</td>\n",
       "      <td>-0.332029</td>\n",
       "      <td>0.284934</td>\n",
       "      <td>0.172209</td>\n",
       "      <td>-0.071227</td>\n",
       "      <td>-0.096340</td>\n",
       "      <td>-0.039252</td>\n",
       "      <td>-0.122395</td>\n",
       "    </tr>\n",
       "    <tr>\n",
       "      <th>Multiple Lines_No phone service</th>\n",
       "      <td>-0.009965</td>\n",
       "      <td>0.010149</td>\n",
       "      <td>-0.006331</td>\n",
       "      <td>-0.023015</td>\n",
       "      <td>0.006488</td>\n",
       "      <td>-0.017706</td>\n",
       "      <td>-1.000000</td>\n",
       "      <td>1.000000</td>\n",
       "      <td>-0.279690</td>\n",
       "      <td>-0.015418</td>\n",
       "      <td>...</td>\n",
       "      <td>0.032959</td>\n",
       "      <td>0.002791</td>\n",
       "      <td>-0.003519</td>\n",
       "      <td>0.332029</td>\n",
       "      <td>-0.284934</td>\n",
       "      <td>-0.172209</td>\n",
       "      <td>0.071227</td>\n",
       "      <td>0.096340</td>\n",
       "      <td>0.039252</td>\n",
       "      <td>0.122395</td>\n",
       "    </tr>\n",
       "    <tr>\n",
       "      <th>Multiple Lines_Yes</th>\n",
       "      <td>0.103122</td>\n",
       "      <td>-0.030307</td>\n",
       "      <td>0.045491</td>\n",
       "      <td>0.133568</td>\n",
       "      <td>-0.008414</td>\n",
       "      <td>0.142057</td>\n",
       "      <td>0.279690</td>\n",
       "      <td>-0.279690</td>\n",
       "      <td>1.000000</td>\n",
       "      <td>0.132641</td>\n",
       "      <td>...</td>\n",
       "      <td>0.258751</td>\n",
       "      <td>-0.003794</td>\n",
       "      <td>0.106253</td>\n",
       "      <td>-0.141726</td>\n",
       "      <td>0.359797</td>\n",
       "      <td>-0.210564</td>\n",
       "      <td>0.201137</td>\n",
       "      <td>0.100571</td>\n",
       "      <td>0.193362</td>\n",
       "      <td>0.159669</td>\n",
       "    </tr>\n",
       "    <tr>\n",
       "      <th>Referred a Friend_Yes</th>\n",
       "      <td>-0.004702</td>\n",
       "      <td>0.309319</td>\n",
       "      <td>0.038250</td>\n",
       "      <td>0.125249</td>\n",
       "      <td>-0.004176</td>\n",
       "      <td>0.949987</td>\n",
       "      <td>0.015418</td>\n",
       "      <td>-0.015418</td>\n",
       "      <td>0.132641</td>\n",
       "      <td>1.000000</td>\n",
       "      <td>...</td>\n",
       "      <td>0.115328</td>\n",
       "      <td>0.079985</td>\n",
       "      <td>0.240395</td>\n",
       "      <td>0.003532</td>\n",
       "      <td>-0.006583</td>\n",
       "      <td>-0.002842</td>\n",
       "      <td>0.154197</td>\n",
       "      <td>0.121772</td>\n",
       "      <td>0.089917</td>\n",
       "      <td>0.019014</td>\n",
       "    </tr>\n",
       "    <tr>\n",
       "      <th>Online Security_Yes</th>\n",
       "      <td>-0.038001</td>\n",
       "      <td>0.041977</td>\n",
       "      <td>0.008190</td>\n",
       "      <td>0.138354</td>\n",
       "      <td>-0.017021</td>\n",
       "      <td>0.143106</td>\n",
       "      <td>-0.092893</td>\n",
       "      <td>0.092893</td>\n",
       "      <td>0.098108</td>\n",
       "      <td>0.139510</td>\n",
       "      <td>...</td>\n",
       "      <td>0.187398</td>\n",
       "      <td>0.100162</td>\n",
       "      <td>0.191773</td>\n",
       "      <td>0.240403</td>\n",
       "      <td>-0.024751</td>\n",
       "      <td>-0.333403</td>\n",
       "      <td>0.275438</td>\n",
       "      <td>0.354931</td>\n",
       "      <td>0.195604</td>\n",
       "      <td>0.265037</td>\n",
       "    </tr>\n",
       "    <tr>\n",
       "      <th>Online Backup_Yes</th>\n",
       "      <td>0.035541</td>\n",
       "      <td>0.001721</td>\n",
       "      <td>0.016855</td>\n",
       "      <td>0.138610</td>\n",
       "      <td>-0.013773</td>\n",
       "      <td>0.141498</td>\n",
       "      <td>-0.052312</td>\n",
       "      <td>0.052312</td>\n",
       "      <td>0.202237</td>\n",
       "      <td>0.143177</td>\n",
       "      <td>...</td>\n",
       "      <td>0.274501</td>\n",
       "      <td>0.083722</td>\n",
       "      <td>0.111400</td>\n",
       "      <td>0.120729</td>\n",
       "      <td>0.167258</td>\n",
       "      <td>-0.381593</td>\n",
       "      <td>0.303546</td>\n",
       "      <td>0.294233</td>\n",
       "      <td>0.245559</td>\n",
       "      <td>0.283855</td>\n",
       "    </tr>\n",
       "    <tr>\n",
       "      <th>Device Protection_Yes</th>\n",
       "      <td>0.028491</td>\n",
       "      <td>-0.019925</td>\n",
       "      <td>0.026038</td>\n",
       "      <td>0.120394</td>\n",
       "      <td>-0.002105</td>\n",
       "      <td>0.153786</td>\n",
       "      <td>-0.071227</td>\n",
       "      <td>0.071227</td>\n",
       "      <td>0.201137</td>\n",
       "      <td>0.154197</td>\n",
       "      <td>...</td>\n",
       "      <td>0.402111</td>\n",
       "      <td>0.102495</td>\n",
       "      <td>0.165096</td>\n",
       "      <td>0.110683</td>\n",
       "      <td>0.175230</td>\n",
       "      <td>-0.380754</td>\n",
       "      <td>1.000000</td>\n",
       "      <td>0.333313</td>\n",
       "      <td>0.349208</td>\n",
       "      <td>0.296619</td>\n",
       "    </tr>\n",
       "    <tr>\n",
       "      <th>Tech Support_Yes</th>\n",
       "      <td>-0.043760</td>\n",
       "      <td>0.022094</td>\n",
       "      <td>0.034823</td>\n",
       "      <td>0.119132</td>\n",
       "      <td>-0.009212</td>\n",
       "      <td>0.119999</td>\n",
       "      <td>-0.096340</td>\n",
       "      <td>0.096340</td>\n",
       "      <td>0.100571</td>\n",
       "      <td>0.121772</td>\n",
       "      <td>...</td>\n",
       "      <td>0.279358</td>\n",
       "      <td>0.095775</td>\n",
       "      <td>0.240824</td>\n",
       "      <td>0.229289</td>\n",
       "      <td>-0.015673</td>\n",
       "      <td>-0.336298</td>\n",
       "      <td>0.333313</td>\n",
       "      <td>1.000000</td>\n",
       "      <td>0.276157</td>\n",
       "      <td>0.251496</td>\n",
       "    </tr>\n",
       "    <tr>\n",
       "      <th>Streaming TV_Yes</th>\n",
       "      <td>0.059760</td>\n",
       "      <td>-0.052981</td>\n",
       "      <td>0.021796</td>\n",
       "      <td>0.104889</td>\n",
       "      <td>-0.008393</td>\n",
       "      <td>0.124666</td>\n",
       "      <td>-0.022574</td>\n",
       "      <td>0.022574</td>\n",
       "      <td>0.257152</td>\n",
       "      <td>0.119882</td>\n",
       "      <td>...</td>\n",
       "      <td>0.533094</td>\n",
       "      <td>0.061612</td>\n",
       "      <td>0.072049</td>\n",
       "      <td>0.007611</td>\n",
       "      <td>0.322701</td>\n",
       "      <td>-0.415552</td>\n",
       "      <td>0.390874</td>\n",
       "      <td>0.278070</td>\n",
       "      <td>0.455387</td>\n",
       "      <td>0.323256</td>\n",
       "    </tr>\n",
       "    <tr>\n",
       "      <th>Streaming Movies_Yes</th>\n",
       "      <td>0.073458</td>\n",
       "      <td>-0.065215</td>\n",
       "      <td>0.013587</td>\n",
       "      <td>0.113000</td>\n",
       "      <td>-0.010487</td>\n",
       "      <td>0.117412</td>\n",
       "      <td>-0.032959</td>\n",
       "      <td>0.032959</td>\n",
       "      <td>0.258751</td>\n",
       "      <td>0.115328</td>\n",
       "      <td>...</td>\n",
       "      <td>1.000000</td>\n",
       "      <td>0.064926</td>\n",
       "      <td>0.073960</td>\n",
       "      <td>0.020070</td>\n",
       "      <td>0.316989</td>\n",
       "      <td>-0.418675</td>\n",
       "      <td>0.402111</td>\n",
       "      <td>0.279358</td>\n",
       "      <td>0.848528</td>\n",
       "      <td>0.318453</td>\n",
       "    </tr>\n",
       "    <tr>\n",
       "      <th>Contract_One year</th>\n",
       "      <td>-0.042309</td>\n",
       "      <td>0.015091</td>\n",
       "      <td>0.005383</td>\n",
       "      <td>0.056364</td>\n",
       "      <td>0.008026</td>\n",
       "      <td>0.082783</td>\n",
       "      <td>-0.002791</td>\n",
       "      <td>0.002791</td>\n",
       "      <td>-0.003794</td>\n",
       "      <td>0.079985</td>\n",
       "      <td>...</td>\n",
       "      <td>0.064926</td>\n",
       "      <td>1.000000</td>\n",
       "      <td>-0.289510</td>\n",
       "      <td>0.037484</td>\n",
       "      <td>-0.071734</td>\n",
       "      <td>0.038004</td>\n",
       "      <td>0.102495</td>\n",
       "      <td>0.095775</td>\n",
       "      <td>0.059637</td>\n",
       "      <td>-0.030073</td>\n",
       "    </tr>\n",
       "    <tr>\n",
       "      <th>Contract_Two year</th>\n",
       "      <td>-0.069663</td>\n",
       "      <td>0.164068</td>\n",
       "      <td>0.021195</td>\n",
       "      <td>0.233151</td>\n",
       "      <td>-0.003695</td>\n",
       "      <td>0.248091</td>\n",
       "      <td>0.003519</td>\n",
       "      <td>-0.003519</td>\n",
       "      <td>0.106253</td>\n",
       "      <td>0.240395</td>\n",
       "      <td>...</td>\n",
       "      <td>0.073960</td>\n",
       "      <td>-0.289510</td>\n",
       "      <td>1.000000</td>\n",
       "      <td>0.021495</td>\n",
       "      <td>-0.202163</td>\n",
       "      <td>0.218278</td>\n",
       "      <td>0.165096</td>\n",
       "      <td>0.240824</td>\n",
       "      <td>0.082848</td>\n",
       "      <td>-0.155817</td>\n",
       "    </tr>\n",
       "    <tr>\n",
       "      <th>Internet Type_DSL</th>\n",
       "      <td>-0.055639</td>\n",
       "      <td>0.008256</td>\n",
       "      <td>0.004102</td>\n",
       "      <td>0.014095</td>\n",
       "      <td>0.016180</td>\n",
       "      <td>0.000020</td>\n",
       "      <td>-0.332029</td>\n",
       "      <td>0.332029</td>\n",
       "      <td>-0.141726</td>\n",
       "      <td>0.003532</td>\n",
       "      <td>...</td>\n",
       "      <td>0.020070</td>\n",
       "      <td>0.037484</td>\n",
       "      <td>0.021495</td>\n",
       "      <td>1.000000</td>\n",
       "      <td>-0.481710</td>\n",
       "      <td>-0.291136</td>\n",
       "      <td>0.110683</td>\n",
       "      <td>0.229289</td>\n",
       "      <td>0.057077</td>\n",
       "      <td>0.215137</td>\n",
       "    </tr>\n",
       "    <tr>\n",
       "      <th>Internet Type_Fiber Optic</th>\n",
       "      <td>0.170996</td>\n",
       "      <td>-0.139224</td>\n",
       "      <td>0.022214</td>\n",
       "      <td>0.012723</td>\n",
       "      <td>-0.011433</td>\n",
       "      <td>-0.002298</td>\n",
       "      <td>0.284934</td>\n",
       "      <td>-0.284934</td>\n",
       "      <td>0.359797</td>\n",
       "      <td>-0.006583</td>\n",
       "      <td>...</td>\n",
       "      <td>0.316989</td>\n",
       "      <td>-0.071734</td>\n",
       "      <td>-0.202163</td>\n",
       "      <td>-0.481710</td>\n",
       "      <td>1.000000</td>\n",
       "      <td>-0.457658</td>\n",
       "      <td>0.175230</td>\n",
       "      <td>-0.015673</td>\n",
       "      <td>0.245256</td>\n",
       "      <td>0.349348</td>\n",
       "    </tr>\n",
       "    <tr>\n",
       "      <th>Internet Type_None</th>\n",
       "      <td>-0.117346</td>\n",
       "      <td>0.153137</td>\n",
       "      <td>-0.020515</td>\n",
       "      <td>-0.011521</td>\n",
       "      <td>0.006026</td>\n",
       "      <td>0.000615</td>\n",
       "      <td>0.172209</td>\n",
       "      <td>-0.172209</td>\n",
       "      <td>-0.210564</td>\n",
       "      <td>-0.002842</td>\n",
       "      <td>...</td>\n",
       "      <td>-0.418675</td>\n",
       "      <td>0.038004</td>\n",
       "      <td>0.218278</td>\n",
       "      <td>-0.291136</td>\n",
       "      <td>-0.457658</td>\n",
       "      <td>1.000000</td>\n",
       "      <td>-0.380754</td>\n",
       "      <td>-0.336298</td>\n",
       "      <td>-0.388693</td>\n",
       "      <td>-0.755734</td>\n",
       "    </tr>\n",
       "    <tr>\n",
       "      <th>Device Protection Plan_Yes</th>\n",
       "      <td>0.028491</td>\n",
       "      <td>-0.019925</td>\n",
       "      <td>0.026038</td>\n",
       "      <td>0.120394</td>\n",
       "      <td>-0.002105</td>\n",
       "      <td>0.153786</td>\n",
       "      <td>-0.071227</td>\n",
       "      <td>0.071227</td>\n",
       "      <td>0.201137</td>\n",
       "      <td>0.154197</td>\n",
       "      <td>...</td>\n",
       "      <td>0.402111</td>\n",
       "      <td>0.102495</td>\n",
       "      <td>0.165096</td>\n",
       "      <td>0.110683</td>\n",
       "      <td>0.175230</td>\n",
       "      <td>-0.380754</td>\n",
       "      <td>1.000000</td>\n",
       "      <td>0.333313</td>\n",
       "      <td>0.349208</td>\n",
       "      <td>0.296619</td>\n",
       "    </tr>\n",
       "    <tr>\n",
       "      <th>Premium Tech Support_Yes</th>\n",
       "      <td>-0.043760</td>\n",
       "      <td>0.022094</td>\n",
       "      <td>0.034823</td>\n",
       "      <td>0.119132</td>\n",
       "      <td>-0.009212</td>\n",
       "      <td>0.119999</td>\n",
       "      <td>-0.096340</td>\n",
       "      <td>0.096340</td>\n",
       "      <td>0.100571</td>\n",
       "      <td>0.121772</td>\n",
       "      <td>...</td>\n",
       "      <td>0.279358</td>\n",
       "      <td>0.095775</td>\n",
       "      <td>0.240824</td>\n",
       "      <td>0.229289</td>\n",
       "      <td>-0.015673</td>\n",
       "      <td>-0.336298</td>\n",
       "      <td>0.333313</td>\n",
       "      <td>1.000000</td>\n",
       "      <td>0.276157</td>\n",
       "      <td>0.251496</td>\n",
       "    </tr>\n",
       "    <tr>\n",
       "      <th>Streaming Music_Yes</th>\n",
       "      <td>-0.155400</td>\n",
       "      <td>-0.033048</td>\n",
       "      <td>0.003212</td>\n",
       "      <td>0.096560</td>\n",
       "      <td>-0.007625</td>\n",
       "      <td>0.088700</td>\n",
       "      <td>-0.039252</td>\n",
       "      <td>0.039252</td>\n",
       "      <td>0.193362</td>\n",
       "      <td>0.089917</td>\n",
       "      <td>...</td>\n",
       "      <td>0.848528</td>\n",
       "      <td>0.059637</td>\n",
       "      <td>0.082848</td>\n",
       "      <td>0.057077</td>\n",
       "      <td>0.245256</td>\n",
       "      <td>-0.388693</td>\n",
       "      <td>0.349208</td>\n",
       "      <td>0.276157</td>\n",
       "      <td>1.000000</td>\n",
       "      <td>0.297011</td>\n",
       "    </tr>\n",
       "    <tr>\n",
       "      <th>Unlimited Data_Yes</th>\n",
       "      <td>0.084353</td>\n",
       "      <td>-0.113853</td>\n",
       "      <td>0.011101</td>\n",
       "      <td>-0.001685</td>\n",
       "      <td>-0.000648</td>\n",
       "      <td>0.018792</td>\n",
       "      <td>-0.122395</td>\n",
       "      <td>0.122395</td>\n",
       "      <td>0.159669</td>\n",
       "      <td>0.019014</td>\n",
       "      <td>...</td>\n",
       "      <td>0.318453</td>\n",
       "      <td>-0.030073</td>\n",
       "      <td>-0.155817</td>\n",
       "      <td>0.215137</td>\n",
       "      <td>0.349348</td>\n",
       "      <td>-0.755734</td>\n",
       "      <td>0.296619</td>\n",
       "      <td>0.251496</td>\n",
       "      <td>0.297011</td>\n",
       "      <td>1.000000</td>\n",
       "    </tr>\n",
       "  </tbody>\n",
       "</table>\n",
       "<p>25 rows × 25 columns</p>\n",
       "</div>"
      ],
      "text/plain": [
       "                                      Age  Number of Dependents  \\\n",
       "Age                              1.000000             -0.119000   \n",
       "Number of Dependents            -0.119000              1.000000   \n",
       "Total Refunds                    0.024168              0.014023   \n",
       "CLTV                            -0.001826              0.049611   \n",
       "Gender_Male                      0.002186              0.005840   \n",
       "Partner_Yes                     -0.003666              0.324205   \n",
       "Phone Service_Yes                0.009965             -0.010149   \n",
       "Multiple Lines_No phone service -0.009965              0.010149   \n",
       "Multiple Lines_Yes               0.103122             -0.030307   \n",
       "Referred a Friend_Yes           -0.004702              0.309319   \n",
       "Online Security_Yes             -0.038001              0.041977   \n",
       "Online Backup_Yes                0.035541              0.001721   \n",
       "Device Protection_Yes            0.028491             -0.019925   \n",
       "Tech Support_Yes                -0.043760              0.022094   \n",
       "Streaming TV_Yes                 0.059760             -0.052981   \n",
       "Streaming Movies_Yes             0.073458             -0.065215   \n",
       "Contract_One year               -0.042309              0.015091   \n",
       "Contract_Two year               -0.069663              0.164068   \n",
       "Internet Type_DSL               -0.055639              0.008256   \n",
       "Internet Type_Fiber Optic        0.170996             -0.139224   \n",
       "Internet Type_None              -0.117346              0.153137   \n",
       "Device Protection Plan_Yes       0.028491             -0.019925   \n",
       "Premium Tech Support_Yes        -0.043760              0.022094   \n",
       "Streaming Music_Yes             -0.155400             -0.033048   \n",
       "Unlimited Data_Yes               0.084353             -0.113853   \n",
       "\n",
       "                                 Total Refunds      CLTV  Gender_Male  \\\n",
       "Age                                   0.024168 -0.001826     0.002186   \n",
       "Number of Dependents                  0.014023  0.049611     0.005840   \n",
       "Total Refunds                         1.000000  0.007992     0.004725   \n",
       "CLTV                                  0.007992  1.000000    -0.006851   \n",
       "Gender_Male                           0.004725 -0.006851     1.000000   \n",
       "Partner_Yes                           0.040142  0.137859    -0.001808   \n",
       "Phone Service_Yes                     0.006331  0.023015    -0.006488   \n",
       "Multiple Lines_No phone service      -0.006331 -0.023015     0.006488   \n",
       "Multiple Lines_Yes                    0.045491  0.133568    -0.008414   \n",
       "Referred a Friend_Yes                 0.038250  0.125249    -0.004176   \n",
       "Online Security_Yes                   0.008190  0.138354    -0.017021   \n",
       "Online Backup_Yes                     0.016855  0.138610    -0.013773   \n",
       "Device Protection_Yes                 0.026038  0.120394    -0.002105   \n",
       "Tech Support_Yes                      0.034823  0.119132    -0.009212   \n",
       "Streaming TV_Yes                      0.021796  0.104889    -0.008393   \n",
       "Streaming Movies_Yes                  0.013587  0.113000    -0.010487   \n",
       "Contract_One year                     0.005383  0.056364     0.008026   \n",
       "Contract_Two year                     0.021195  0.233151    -0.003695   \n",
       "Internet Type_DSL                     0.004102  0.014095     0.016180   \n",
       "Internet Type_Fiber Optic             0.022214  0.012723    -0.011433   \n",
       "Internet Type_None                   -0.020515 -0.011521     0.006026   \n",
       "Device Protection Plan_Yes            0.026038  0.120394    -0.002105   \n",
       "Premium Tech Support_Yes              0.034823  0.119132    -0.009212   \n",
       "Streaming Music_Yes                   0.003212  0.096560    -0.007625   \n",
       "Unlimited Data_Yes                    0.011101 -0.001685    -0.000648   \n",
       "\n",
       "                                 Partner_Yes  Phone Service_Yes  \\\n",
       "Age                                -0.003666           0.009965   \n",
       "Number of Dependents                0.324205          -0.010149   \n",
       "Total Refunds                       0.040142           0.006331   \n",
       "CLTV                                0.137859           0.023015   \n",
       "Gender_Male                        -0.001808          -0.006488   \n",
       "Partner_Yes                         1.000000           0.017706   \n",
       "Phone Service_Yes                   0.017706           1.000000   \n",
       "Multiple Lines_No phone service    -0.017706          -1.000000   \n",
       "Multiple Lines_Yes                  0.142057           0.279690   \n",
       "Referred a Friend_Yes               0.949987           0.015418   \n",
       "Online Security_Yes                 0.143106          -0.092893   \n",
       "Online Backup_Yes                   0.141498          -0.052312   \n",
       "Device Protection_Yes               0.153786          -0.071227   \n",
       "Tech Support_Yes                    0.119999          -0.096340   \n",
       "Streaming TV_Yes                    0.124666          -0.022574   \n",
       "Streaming Movies_Yes                0.117412          -0.032959   \n",
       "Contract_One year                   0.082783          -0.002791   \n",
       "Contract_Two year                   0.248091           0.003519   \n",
       "Internet Type_DSL                   0.000020          -0.332029   \n",
       "Internet Type_Fiber Optic          -0.002298           0.284934   \n",
       "Internet Type_None                  0.000615           0.172209   \n",
       "Device Protection Plan_Yes          0.153786          -0.071227   \n",
       "Premium Tech Support_Yes            0.119999          -0.096340   \n",
       "Streaming Music_Yes                 0.088700          -0.039252   \n",
       "Unlimited Data_Yes                  0.018792          -0.122395   \n",
       "\n",
       "                                 Multiple Lines_No phone service  \\\n",
       "Age                                                    -0.009965   \n",
       "Number of Dependents                                    0.010149   \n",
       "Total Refunds                                          -0.006331   \n",
       "CLTV                                                   -0.023015   \n",
       "Gender_Male                                             0.006488   \n",
       "Partner_Yes                                            -0.017706   \n",
       "Phone Service_Yes                                      -1.000000   \n",
       "Multiple Lines_No phone service                         1.000000   \n",
       "Multiple Lines_Yes                                     -0.279690   \n",
       "Referred a Friend_Yes                                  -0.015418   \n",
       "Online Security_Yes                                     0.092893   \n",
       "Online Backup_Yes                                       0.052312   \n",
       "Device Protection_Yes                                   0.071227   \n",
       "Tech Support_Yes                                        0.096340   \n",
       "Streaming TV_Yes                                        0.022574   \n",
       "Streaming Movies_Yes                                    0.032959   \n",
       "Contract_One year                                       0.002791   \n",
       "Contract_Two year                                      -0.003519   \n",
       "Internet Type_DSL                                       0.332029   \n",
       "Internet Type_Fiber Optic                              -0.284934   \n",
       "Internet Type_None                                     -0.172209   \n",
       "Device Protection Plan_Yes                              0.071227   \n",
       "Premium Tech Support_Yes                                0.096340   \n",
       "Streaming Music_Yes                                     0.039252   \n",
       "Unlimited Data_Yes                                      0.122395   \n",
       "\n",
       "                                 Multiple Lines_Yes  Referred a Friend_Yes  \\\n",
       "Age                                        0.103122              -0.004702   \n",
       "Number of Dependents                      -0.030307               0.309319   \n",
       "Total Refunds                              0.045491               0.038250   \n",
       "CLTV                                       0.133568               0.125249   \n",
       "Gender_Male                               -0.008414              -0.004176   \n",
       "Partner_Yes                                0.142057               0.949987   \n",
       "Phone Service_Yes                          0.279690               0.015418   \n",
       "Multiple Lines_No phone service           -0.279690              -0.015418   \n",
       "Multiple Lines_Yes                         1.000000               0.132641   \n",
       "Referred a Friend_Yes                      0.132641               1.000000   \n",
       "Online Security_Yes                        0.098108               0.139510   \n",
       "Online Backup_Yes                          0.202237               0.143177   \n",
       "Device Protection_Yes                      0.201137               0.154197   \n",
       "Tech Support_Yes                           0.100571               0.121772   \n",
       "Streaming TV_Yes                           0.257152               0.119882   \n",
       "Streaming Movies_Yes                       0.258751               0.115328   \n",
       "Contract_One year                         -0.003794               0.079985   \n",
       "Contract_Two year                          0.106253               0.240395   \n",
       "Internet Type_DSL                         -0.141726               0.003532   \n",
       "Internet Type_Fiber Optic                  0.359797              -0.006583   \n",
       "Internet Type_None                        -0.210564              -0.002842   \n",
       "Device Protection Plan_Yes                 0.201137               0.154197   \n",
       "Premium Tech Support_Yes                   0.100571               0.121772   \n",
       "Streaming Music_Yes                        0.193362               0.089917   \n",
       "Unlimited Data_Yes                         0.159669               0.019014   \n",
       "\n",
       "                                 ...  Streaming Movies_Yes  Contract_One year  \\\n",
       "Age                              ...              0.073458          -0.042309   \n",
       "Number of Dependents             ...             -0.065215           0.015091   \n",
       "Total Refunds                    ...              0.013587           0.005383   \n",
       "CLTV                             ...              0.113000           0.056364   \n",
       "Gender_Male                      ...             -0.010487           0.008026   \n",
       "Partner_Yes                      ...              0.117412           0.082783   \n",
       "Phone Service_Yes                ...             -0.032959          -0.002791   \n",
       "Multiple Lines_No phone service  ...              0.032959           0.002791   \n",
       "Multiple Lines_Yes               ...              0.258751          -0.003794   \n",
       "Referred a Friend_Yes            ...              0.115328           0.079985   \n",
       "Online Security_Yes              ...              0.187398           0.100162   \n",
       "Online Backup_Yes                ...              0.274501           0.083722   \n",
       "Device Protection_Yes            ...              0.402111           0.102495   \n",
       "Tech Support_Yes                 ...              0.279358           0.095775   \n",
       "Streaming TV_Yes                 ...              0.533094           0.061612   \n",
       "Streaming Movies_Yes             ...              1.000000           0.064926   \n",
       "Contract_One year                ...              0.064926           1.000000   \n",
       "Contract_Two year                ...              0.073960          -0.289510   \n",
       "Internet Type_DSL                ...              0.020070           0.037484   \n",
       "Internet Type_Fiber Optic        ...              0.316989          -0.071734   \n",
       "Internet Type_None               ...             -0.418675           0.038004   \n",
       "Device Protection Plan_Yes       ...              0.402111           0.102495   \n",
       "Premium Tech Support_Yes         ...              0.279358           0.095775   \n",
       "Streaming Music_Yes              ...              0.848528           0.059637   \n",
       "Unlimited Data_Yes               ...              0.318453          -0.030073   \n",
       "\n",
       "                                 Contract_Two year  Internet Type_DSL  \\\n",
       "Age                                      -0.069663          -0.055639   \n",
       "Number of Dependents                      0.164068           0.008256   \n",
       "Total Refunds                             0.021195           0.004102   \n",
       "CLTV                                      0.233151           0.014095   \n",
       "Gender_Male                              -0.003695           0.016180   \n",
       "Partner_Yes                               0.248091           0.000020   \n",
       "Phone Service_Yes                         0.003519          -0.332029   \n",
       "Multiple Lines_No phone service          -0.003519           0.332029   \n",
       "Multiple Lines_Yes                        0.106253          -0.141726   \n",
       "Referred a Friend_Yes                     0.240395           0.003532   \n",
       "Online Security_Yes                       0.191773           0.240403   \n",
       "Online Backup_Yes                         0.111400           0.120729   \n",
       "Device Protection_Yes                     0.165096           0.110683   \n",
       "Tech Support_Yes                          0.240824           0.229289   \n",
       "Streaming TV_Yes                          0.072049           0.007611   \n",
       "Streaming Movies_Yes                      0.073960           0.020070   \n",
       "Contract_One year                        -0.289510           0.037484   \n",
       "Contract_Two year                         1.000000           0.021495   \n",
       "Internet Type_DSL                         0.021495           1.000000   \n",
       "Internet Type_Fiber Optic                -0.202163          -0.481710   \n",
       "Internet Type_None                        0.218278          -0.291136   \n",
       "Device Protection Plan_Yes                0.165096           0.110683   \n",
       "Premium Tech Support_Yes                  0.240824           0.229289   \n",
       "Streaming Music_Yes                       0.082848           0.057077   \n",
       "Unlimited Data_Yes                       -0.155817           0.215137   \n",
       "\n",
       "                                 Internet Type_Fiber Optic  \\\n",
       "Age                                               0.170996   \n",
       "Number of Dependents                             -0.139224   \n",
       "Total Refunds                                     0.022214   \n",
       "CLTV                                              0.012723   \n",
       "Gender_Male                                      -0.011433   \n",
       "Partner_Yes                                      -0.002298   \n",
       "Phone Service_Yes                                 0.284934   \n",
       "Multiple Lines_No phone service                  -0.284934   \n",
       "Multiple Lines_Yes                                0.359797   \n",
       "Referred a Friend_Yes                            -0.006583   \n",
       "Online Security_Yes                              -0.024751   \n",
       "Online Backup_Yes                                 0.167258   \n",
       "Device Protection_Yes                             0.175230   \n",
       "Tech Support_Yes                                 -0.015673   \n",
       "Streaming TV_Yes                                  0.322701   \n",
       "Streaming Movies_Yes                              0.316989   \n",
       "Contract_One year                                -0.071734   \n",
       "Contract_Two year                                -0.202163   \n",
       "Internet Type_DSL                                -0.481710   \n",
       "Internet Type_Fiber Optic                         1.000000   \n",
       "Internet Type_None                               -0.457658   \n",
       "Device Protection Plan_Yes                        0.175230   \n",
       "Premium Tech Support_Yes                         -0.015673   \n",
       "Streaming Music_Yes                               0.245256   \n",
       "Unlimited Data_Yes                                0.349348   \n",
       "\n",
       "                                 Internet Type_None  \\\n",
       "Age                                       -0.117346   \n",
       "Number of Dependents                       0.153137   \n",
       "Total Refunds                             -0.020515   \n",
       "CLTV                                      -0.011521   \n",
       "Gender_Male                                0.006026   \n",
       "Partner_Yes                                0.000615   \n",
       "Phone Service_Yes                          0.172209   \n",
       "Multiple Lines_No phone service           -0.172209   \n",
       "Multiple Lines_Yes                        -0.210564   \n",
       "Referred a Friend_Yes                     -0.002842   \n",
       "Online Security_Yes                       -0.333403   \n",
       "Online Backup_Yes                         -0.381593   \n",
       "Device Protection_Yes                     -0.380754   \n",
       "Tech Support_Yes                          -0.336298   \n",
       "Streaming TV_Yes                          -0.415552   \n",
       "Streaming Movies_Yes                      -0.418675   \n",
       "Contract_One year                          0.038004   \n",
       "Contract_Two year                          0.218278   \n",
       "Internet Type_DSL                         -0.291136   \n",
       "Internet Type_Fiber Optic                 -0.457658   \n",
       "Internet Type_None                         1.000000   \n",
       "Device Protection Plan_Yes                -0.380754   \n",
       "Premium Tech Support_Yes                  -0.336298   \n",
       "Streaming Music_Yes                       -0.388693   \n",
       "Unlimited Data_Yes                        -0.755734   \n",
       "\n",
       "                                 Device Protection Plan_Yes  \\\n",
       "Age                                                0.028491   \n",
       "Number of Dependents                              -0.019925   \n",
       "Total Refunds                                      0.026038   \n",
       "CLTV                                               0.120394   \n",
       "Gender_Male                                       -0.002105   \n",
       "Partner_Yes                                        0.153786   \n",
       "Phone Service_Yes                                 -0.071227   \n",
       "Multiple Lines_No phone service                    0.071227   \n",
       "Multiple Lines_Yes                                 0.201137   \n",
       "Referred a Friend_Yes                              0.154197   \n",
       "Online Security_Yes                                0.275438   \n",
       "Online Backup_Yes                                  0.303546   \n",
       "Device Protection_Yes                              1.000000   \n",
       "Tech Support_Yes                                   0.333313   \n",
       "Streaming TV_Yes                                   0.390874   \n",
       "Streaming Movies_Yes                               0.402111   \n",
       "Contract_One year                                  0.102495   \n",
       "Contract_Two year                                  0.165096   \n",
       "Internet Type_DSL                                  0.110683   \n",
       "Internet Type_Fiber Optic                          0.175230   \n",
       "Internet Type_None                                -0.380754   \n",
       "Device Protection Plan_Yes                         1.000000   \n",
       "Premium Tech Support_Yes                           0.333313   \n",
       "Streaming Music_Yes                                0.349208   \n",
       "Unlimited Data_Yes                                 0.296619   \n",
       "\n",
       "                                 Premium Tech Support_Yes  \\\n",
       "Age                                             -0.043760   \n",
       "Number of Dependents                             0.022094   \n",
       "Total Refunds                                    0.034823   \n",
       "CLTV                                             0.119132   \n",
       "Gender_Male                                     -0.009212   \n",
       "Partner_Yes                                      0.119999   \n",
       "Phone Service_Yes                               -0.096340   \n",
       "Multiple Lines_No phone service                  0.096340   \n",
       "Multiple Lines_Yes                               0.100571   \n",
       "Referred a Friend_Yes                            0.121772   \n",
       "Online Security_Yes                              0.354931   \n",
       "Online Backup_Yes                                0.294233   \n",
       "Device Protection_Yes                            0.333313   \n",
       "Tech Support_Yes                                 1.000000   \n",
       "Streaming TV_Yes                                 0.278070   \n",
       "Streaming Movies_Yes                             0.279358   \n",
       "Contract_One year                                0.095775   \n",
       "Contract_Two year                                0.240824   \n",
       "Internet Type_DSL                                0.229289   \n",
       "Internet Type_Fiber Optic                       -0.015673   \n",
       "Internet Type_None                              -0.336298   \n",
       "Device Protection Plan_Yes                       0.333313   \n",
       "Premium Tech Support_Yes                         1.000000   \n",
       "Streaming Music_Yes                              0.276157   \n",
       "Unlimited Data_Yes                               0.251496   \n",
       "\n",
       "                                 Streaming Music_Yes  Unlimited Data_Yes  \n",
       "Age                                        -0.155400            0.084353  \n",
       "Number of Dependents                       -0.033048           -0.113853  \n",
       "Total Refunds                               0.003212            0.011101  \n",
       "CLTV                                        0.096560           -0.001685  \n",
       "Gender_Male                                -0.007625           -0.000648  \n",
       "Partner_Yes                                 0.088700            0.018792  \n",
       "Phone Service_Yes                          -0.039252           -0.122395  \n",
       "Multiple Lines_No phone service             0.039252            0.122395  \n",
       "Multiple Lines_Yes                          0.193362            0.159669  \n",
       "Referred a Friend_Yes                       0.089917            0.019014  \n",
       "Online Security_Yes                         0.195604            0.265037  \n",
       "Online Backup_Yes                           0.245559            0.283855  \n",
       "Device Protection_Yes                       0.349208            0.296619  \n",
       "Tech Support_Yes                            0.276157            0.251496  \n",
       "Streaming TV_Yes                            0.455387            0.323256  \n",
       "Streaming Movies_Yes                        0.848528            0.318453  \n",
       "Contract_One year                           0.059637           -0.030073  \n",
       "Contract_Two year                           0.082848           -0.155817  \n",
       "Internet Type_DSL                           0.057077            0.215137  \n",
       "Internet Type_Fiber Optic                   0.245256            0.349348  \n",
       "Internet Type_None                         -0.388693           -0.755734  \n",
       "Device Protection Plan_Yes                  0.349208            0.296619  \n",
       "Premium Tech Support_Yes                    0.276157            0.251496  \n",
       "Streaming Music_Yes                         1.000000            0.297011  \n",
       "Unlimited Data_Yes                          0.297011            1.000000  \n",
       "\n",
       "[25 rows x 25 columns]"
      ]
     },
     "execution_count": 311,
     "metadata": {},
     "output_type": "execute_result"
    }
   ],
   "source": [
    "prueba.corr()"
   ]
  },
  {
   "cell_type": "code",
   "execution_count": 312,
   "id": "1b5a2e30",
   "metadata": {},
   "outputs": [
    {
     "data": {
      "text/plain": [
       "Index(['Age', 'Number of Dependents', 'Total Refunds', 'CLTV', 'Gender_Male',\n",
       "       'Partner_Yes', 'Phone Service_Yes', 'Multiple Lines_No phone service',\n",
       "       'Multiple Lines_Yes', 'Referred a Friend_Yes', 'Online Security_Yes',\n",
       "       'Online Backup_Yes', 'Device Protection_Yes', 'Tech Support_Yes',\n",
       "       'Streaming TV_Yes', 'Streaming Movies_Yes', 'Contract_One year',\n",
       "       'Contract_Two year', 'Internet Type_DSL', 'Internet Type_Fiber Optic',\n",
       "       'Internet Type_None', 'Device Protection Plan_Yes',\n",
       "       'Premium Tech Support_Yes', 'Streaming Music_Yes',\n",
       "       'Unlimited Data_Yes'],\n",
       "      dtype='object')"
      ]
     },
     "execution_count": 312,
     "metadata": {},
     "output_type": "execute_result"
    }
   ],
   "source": [
    "prueba.columns"
   ]
  },
  {
   "cell_type": "code",
   "execution_count": 313,
   "id": "13bd2bb9",
   "metadata": {},
   "outputs": [],
   "source": [
    "train = prueba[['Age', 'Number of Dependents', 'Total Refunds', \n",
    "        'Gender_Male', 'Partner_Yes',\n",
    "       'Phone Service_Yes', 'Multiple Lines_No phone service',\n",
    "       'Multiple Lines_Yes','Referred a Friend_Yes', 'Online Security_Yes', 'Online Backup_Yes',\n",
    "       'Device Protection_Yes', 'Tech Support_Yes', 'Streaming TV_Yes',\n",
    "       'Streaming Movies_Yes', 'Contract_One year', 'Contract_Two year',\n",
    "       'Internet Type_DSL', 'Internet Type_Fiber Optic', 'Internet Type_None',\n",
    "       'Device Protection Plan_Yes', 'Premium Tech Support_Yes',\n",
    "       'Streaming Music_Yes', 'Unlimited Data_Yes']]"
   ]
  },
  {
   "cell_type": "markdown",
   "id": "9c6dd535",
   "metadata": {},
   "source": [
    "## Runing the Linear Regression Model"
   ]
  },
  {
   "cell_type": "code",
   "execution_count": 314,
   "id": "05c2747a",
   "metadata": {},
   "outputs": [],
   "source": [
    "from sklearn.model_selection import train_test_split\n",
    "\n",
    "X = prueba.drop(\"CLTV\", axis = 1)\n",
    "variables = X.columns\n",
    "X = X.values\n",
    "\n",
    "y = prueba[\"CLTV\"]\n",
    "\n",
    "X_train, X_test, y_train, y_test = train_test_split(\n",
    "    X, y, random_state=20, test_size=0.25)"
   ]
  },
  {
   "cell_type": "code",
   "execution_count": 315,
   "id": "f2f608cf",
   "metadata": {},
   "outputs": [],
   "source": [
    "from sklearn.linear_model import LinearRegression\n",
    "from sklearn.metrics import classification_report, confusion_matrix\n",
    "\n",
    "lr = LinearRegression()\n",
    "model=lr.fit(X,y)"
   ]
  },
  {
   "cell_type": "code",
   "execution_count": 316,
   "id": "bf6560f3",
   "metadata": {},
   "outputs": [
    {
     "name": "stdout",
     "output_type": "stream",
     "text": [
      "Constant:  3885.5350580152844\n",
      "R2:  0.09650370570303746\n"
     ]
    }
   ],
   "source": [
    "# print the intercept\n",
    "print(\"Constant: \", model.intercept_)\n",
    "print(\"R2: \", model.score(X,y))"
   ]
  },
  {
   "cell_type": "code",
   "execution_count": 317,
   "id": "8ee75038",
   "metadata": {},
   "outputs": [],
   "source": [
    "predictions = lr.predict(X)"
   ]
  },
  {
   "cell_type": "code",
   "execution_count": 318,
   "id": "32c6be26",
   "metadata": {},
   "outputs": [
    {
     "data": {
      "text/plain": [
       "<matplotlib.collections.PathCollection at 0x21acfac6790>"
      ]
     },
     "execution_count": 318,
     "metadata": {},
     "output_type": "execute_result"
    },
    {
     "data": {
      "image/png": "[encoded data removed]",
      "text/plain": [
       "<Figure size 432x288 with 1 Axes>"
      ]
     },
     "metadata": {
      "needs_background": "light"
     },
     "output_type": "display_data"
    }
   ],
   "source": [
    "plt.scatter(y,predictions)"
   ]
  },
  {
   "cell_type": "code",
   "execution_count": 319,
   "id": "984a03c0",
   "metadata": {},
   "outputs": [
    {
     "data": {
      "image/png": "[encoded data removed]",
      "text/plain": [
       "<Figure size 432x288 with 1 Axes>"
      ]
     },
     "metadata": {
      "needs_background": "light"
     },
     "output_type": "display_data"
    }
   ],
   "source": [
    "sns.distplot((y-predictions),bins=100);"
   ]
  },
  {
   "cell_type": "code",
   "execution_count": 320,
   "id": "75d05c1d",
   "metadata": {},
   "outputs": [
    {
     "name": "stdout",
     "output_type": "stream",
     "text": [
      "MAE: 945.680459524148\n",
      "MSE: 1264375.7526818141\n",
      "RMSE: 1124.444641892972\n"
     ]
    }
   ],
   "source": [
    "from sklearn import metrics\n",
    "\n",
    "print('MAE:', metrics.mean_absolute_error(y, predictions))\n",
    "print('MSE:', metrics.mean_squared_error(y, predictions))\n",
    "print('RMSE:', np.sqrt(metrics.mean_squared_error(y, predictions)))"
   ]
  },
  {
   "cell_type": "code",
   "execution_count": 321,
   "id": "95d56ab2",
   "metadata": {},
   "outputs": [
    {
     "name": "stdout",
     "output_type": "stream",
     "text": [
      "                            OLS Regression Results                            \n",
      "==============================================================================\n",
      "Dep. Variable:                   CLTV   R-squared:                       0.097\n",
      "Model:                            OLS   Adj. R-squared:                  0.094\n",
      "Method:                 Least Squares   F-statistic:                     35.71\n",
      "Date:                Sun, 13 Feb 2022   Prob (F-statistic):          1.89e-137\n",
      "Time:                        20:04:18   Log-Likelihood:                -59471.\n",
      "No. Observations:                7043   AIC:                         1.190e+05\n",
      "Df Residuals:                    7021   BIC:                         1.191e+05\n",
      "Df Model:                          21                                         \n",
      "Covariance Type:            nonrobust                                         \n",
      "==============================================================================\n",
      "                 coef    std err          t      P>|t|      [0.025      0.975]\n",
      "------------------------------------------------------------------------------\n",
      "const       2590.3567     50.630     51.162      0.000    2491.106    2689.607\n",
      "x1             0.3191      0.901      0.354      0.723      -1.448       2.086\n",
      "x2             1.7221     15.103      0.114      0.909     -27.884      31.328\n",
      "x3            -0.7741      1.703     -0.455      0.649      -4.112       2.564\n",
      "x4           -10.0028     26.857     -0.372      0.710     -62.651      42.646\n",
      "x5           268.5188     86.917      3.089      0.002      98.135     438.903\n",
      "x6          1297.2498     33.814     38.364      0.000    1230.964    1363.536\n",
      "x7          1293.1069     38.866     33.270      0.000    1216.917    1369.297\n",
      "x8           162.4638     31.381      5.177      0.000     100.947     223.981\n",
      "x9          -181.0405     86.361     -2.096      0.036    -350.333     -11.748\n",
      "x10          141.9753     34.817      4.078      0.000      73.724     210.227\n",
      "x11          149.0270     32.432      4.595      0.000      85.450     212.604\n",
      "x12            7.1928     17.078      0.421      0.674     -26.285      40.670\n",
      "x13            1.1258     17.876      0.063      0.950     -33.916      36.168\n",
      "x14           39.2232     34.966      1.122      0.262     -29.321     107.767\n",
      "x15           93.8033     59.955      1.565      0.118     -23.726     211.332\n",
      "x16          306.6922     38.145      8.040      0.000     231.916     381.469\n",
      "x17          623.8162     41.985     14.858      0.000     541.513     706.120\n",
      "x18           90.6537     47.949      1.891      0.059      -3.341     184.649\n",
      "x19          124.1596     48.532      2.558      0.011      29.023     219.296\n",
      "x20           60.3237     72.149      0.836      0.403     -81.110     201.757\n",
      "x21            7.1928     17.078      0.421      0.674     -26.285      40.670\n",
      "x22            1.1258     17.876      0.063      0.950     -33.916      36.168\n",
      "x23          -20.8616     58.849     -0.354      0.723    -136.223      94.499\n",
      "x24          -82.0861     43.758     -1.876      0.061    -167.865       3.693\n",
      "==============================================================================\n",
      "Omnibus:                      823.302   Durbin-Watson:                   2.009\n",
      "Prob(Omnibus):                  0.000   Jarque-Bera (JB):              283.085\n",
      "Skew:                          -0.246   Prob(JB):                     3.38e-62\n",
      "Kurtosis:                       2.150   Cond. No.                     4.52e+18\n",
      "==============================================================================\n",
      "\n",
      "Notes:\n",
      "[1] Standard Errors assume that the covariance matrix of the errors is correctly specified.\n",
      "[2] The smallest eigenvalue is 8.44e-31. This might indicate that there are\n",
      "strong multicollinearity problems or that the design matrix is singular.\n"
     ]
    }
   ],
   "source": [
    "X = sm.add_constant(X)\n",
    "\n",
    "result = sm.OLS( y, X).fit()\n",
    "print (result.summary())"
   ]
  },
  {
   "cell_type": "markdown",
   "id": "f39386f9",
   "metadata": {},
   "source": [
    "## Runing Random Forest Regressor"
   ]
  },
  {
   "cell_type": "code",
   "execution_count": 322,
   "id": "9339cc84",
   "metadata": {},
   "outputs": [],
   "source": [
    "from sklearn.ensemble import RandomForestRegressor\n",
    "\n",
    "rf = RandomForestRegressor(n_estimators = 10, random_state = 0)\n",
    "random_forest =rf.fit(X_train,y_train)"
   ]
  },
  {
   "cell_type": "code",
   "execution_count": 323,
   "id": "0c06ba01",
   "metadata": {},
   "outputs": [
    {
     "data": {
      "text/plain": [
       "0.7516186916648071"
      ]
     },
     "execution_count": 323,
     "metadata": {},
     "output_type": "execute_result"
    }
   ],
   "source": [
    "random_forest.score(X_train,y_train)"
   ]
  },
  {
   "cell_type": "code",
   "execution_count": 324,
   "id": "c9b5c93b",
   "metadata": {},
   "outputs": [
    {
     "data": {
      "text/plain": [
       "array([5151.7  , 4059.225, 4403.9  , ..., 4554.6  , 4210.7  , 4189.9  ])"
      ]
     },
     "execution_count": 324,
     "metadata": {},
     "output_type": "execute_result"
    }
   ],
   "source": [
    "y_predict = random_forest.predict(X_test)\n",
    "y_predict"
   ]
  },
  {
   "cell_type": "code",
   "execution_count": 325,
   "id": "151411dc",
   "metadata": {},
   "outputs": [
    {
     "data": {
      "text/plain": [
       "array([0.35395217, 0.06365889, 0.0353177 , 0.05527819, 0.02918858,\n",
       "       0.00987625, 0.00956143, 0.04563326, 0.02738132, 0.02647994,\n",
       "       0.03141698, 0.0180578 , 0.01844728, 0.03449544, 0.02152868,\n",
       "       0.0168715 , 0.05806246, 0.02321109, 0.03037116, 0.0060956 ,\n",
       "       0.01858158, 0.01859994, 0.02049451, 0.02743824])"
      ]
     },
     "execution_count": 325,
     "metadata": {},
     "output_type": "execute_result"
    }
   ],
   "source": [
    "random_forest.feature_importances_"
   ]
  },
  {
   "cell_type": "code",
   "execution_count": 326,
   "id": "b81932c4",
   "metadata": {},
   "outputs": [
    {
     "name": "stdout",
     "output_type": "stream",
     "text": [
      "Feature: 0, Score: 0.35395\n",
      "Feature: 1, Score: 0.06366\n",
      "Feature: 2, Score: 0.03532\n",
      "Feature: 3, Score: 0.05528\n",
      "Feature: 4, Score: 0.02919\n",
      "Feature: 5, Score: 0.00988\n",
      "Feature: 6, Score: 0.00956\n",
      "Feature: 7, Score: 0.04563\n",
      "Feature: 8, Score: 0.02738\n",
      "Feature: 9, Score: 0.02648\n",
      "Feature: 10, Score: 0.03142\n",
      "Feature: 11, Score: 0.01806\n",
      "Feature: 12, Score: 0.01845\n",
      "Feature: 13, Score: 0.03450\n",
      "Feature: 14, Score: 0.02153\n",
      "Feature: 15, Score: 0.01687\n",
      "Feature: 16, Score: 0.05806\n",
      "Feature: 17, Score: 0.02321\n",
      "Feature: 18, Score: 0.03037\n",
      "Feature: 19, Score: 0.00610\n",
      "Feature: 20, Score: 0.01858\n",
      "Feature: 21, Score: 0.01860\n",
      "Feature: 22, Score: 0.02049\n",
      "Feature: 23, Score: 0.02744\n"
     ]
    },
    {
     "data": {
      "image/png": "[encoded data removed]",
      "text/plain": [
       "<Figure size 432x288 with 1 Axes>"
      ]
     },
     "metadata": {
      "needs_background": "light"
     },
     "output_type": "display_data"
    }
   ],
   "source": [
    "importance = random_forest.feature_importances_\n",
    "\n",
    "# summarize feature importance\n",
    "for i,v in enumerate(importance):\n",
    "    print('Feature: %0d, Score: %.5f' % (i,v))\n",
    "    \n",
    "# plot feature importance\n",
    "pyplot.bar([x for x in range(len(importance))], importance)\n",
    "pyplot.show()"
   ]
  },
  {
   "cell_type": "code",
   "execution_count": 340,
   "id": "3ab76345",
   "metadata": {},
   "outputs": [],
   "source": [
    "def plot_feature_importance(importance,names,model_type):\n",
    "    #Create arrays from feature importance and feature names\n",
    "    feature_importance = np.array(importance)\n",
    "    feature_names = np.array(names)\n",
    "\n",
    "    #Create a DataFrame using a Dictionary\n",
    "    data={'feature_names':feature_names,'feature_importance':feature_importance}\n",
    "    fi_df = pd.DataFrame(data)\n",
    "\n",
    "    #Sort the DataFrame in order decreasing feature importance\n",
    "    fi_df.sort_values(by=['feature_importance'], ascending=False,inplace=True)\n",
    "\n",
    "    #Define size of bar plot\n",
    "    plt.figure(figsize=(10,8))\n",
    "    #Plot Searborn bar chart\n",
    "    sns.barplot(x=fi_df['feature_importance'], y=fi_df['feature_names'],color='#9976ff')\n",
    "    #Add chart labels\n",
    "    plt.title(model_type + ' FEATURE IMPORTANCE')\n",
    "    plt.xlabel('FEATURE IMPORTANCE')\n",
    "    plt.ylabel('FEATURE NAMES')"
   ]
  },
  {
   "cell_type": "code",
   "execution_count": 341,
   "id": "524d8157",
   "metadata": {},
   "outputs": [
    {
     "data": {
      "image/png": "[encoded data removed]",
      "text/plain": [
       "<Figure size 720x576 with 1 Axes>"
      ]
     },
     "metadata": {
      "needs_background": "light"
     },
     "output_type": "display_data"
    }
   ],
   "source": [
    "plot_feature_importance(random_forest.feature_importances_,train.columns,'RANDOM FOREST')"
   ]
  },
  {
   "cell_type": "code",
   "execution_count": 342,
   "id": "f496189e",
   "metadata": {},
   "outputs": [
    {
     "data": {
      "text/plain": [
       "RandomForestRegressor(n_estimators=10, random_state=0)"
      ]
     },
     "execution_count": 342,
     "metadata": {},
     "output_type": "execute_result"
    }
   ],
   "source": [
    "random_forest.set_params()"
   ]
  },
  {
   "cell_type": "code",
   "execution_count": 343,
   "id": "2102d130",
   "metadata": {},
   "outputs": [
    {
     "data": {
      "text/plain": [
       "Index(['Age', 'Number of Dependents', 'Total Refunds', 'CLTV', 'Gender_Male',\n",
       "       'Partner_Yes', 'Phone Service_Yes', 'Multiple Lines_No phone service',\n",
       "       'Multiple Lines_Yes', 'Referred a Friend_Yes', 'Online Security_Yes',\n",
       "       'Online Backup_Yes', 'Device Protection_Yes', 'Tech Support_Yes',\n",
       "       'Streaming TV_Yes', 'Streaming Movies_Yes', 'Contract_One year',\n",
       "       'Contract_Two year', 'Internet Type_DSL', 'Internet Type_Fiber Optic',\n",
       "       'Internet Type_None', 'Device Protection Plan_Yes',\n",
       "       'Premium Tech Support_Yes', 'Streaming Music_Yes',\n",
       "       'Unlimited Data_Yes'],\n",
       "      dtype='object')"
      ]
     },
     "execution_count": 343,
     "metadata": {},
     "output_type": "execute_result"
    }
   ],
   "source": [
    "prueba.columns"
   ]
  },
  {
   "cell_type": "markdown",
   "id": "c729e8d9",
   "metadata": {},
   "source": [
    "## Runing Ridge Regression"
   ]
  },
  {
   "cell_type": "code",
   "execution_count": 344,
   "id": "b48d67f8",
   "metadata": {},
   "outputs": [
    {
     "name": "stdout",
     "output_type": "stream",
     "text": [
      "Mean MAE: 948.706 (16.986)\n"
     ]
    }
   ],
   "source": [
    "from sklearn.model_selection import cross_val_score\n",
    "from sklearn.model_selection import RepeatedKFold\n",
    "from sklearn.linear_model import Ridge\n",
    "from numpy import absolute\n",
    "from numpy import mean\n",
    "from numpy import std\n",
    "\n",
    "# define model\n",
    "rg = Ridge(alpha=1.0)\n",
    "# define model evaluation method\n",
    "cv = RepeatedKFold(n_splits=10, n_repeats=3, random_state=1)\n",
    "# evaluate model\n",
    "scores = cross_val_score(rg, X, y, scoring='neg_mean_absolute_error', cv=cv, n_jobs=-1)\n",
    "# force scores to be positive\n",
    "scores = absolute(scores)\n",
    "print('Mean MAE: %.3f (%.3f)' % (mean(scores), std(scores)))"
   ]
  },
  {
   "cell_type": "code",
   "execution_count": 345,
   "id": "07833ffe",
   "metadata": {},
   "outputs": [
    {
     "data": {
      "text/plain": [
       "Ridge()"
      ]
     },
     "execution_count": 345,
     "metadata": {},
     "output_type": "execute_result"
    }
   ],
   "source": [
    "rg.fit(X_train, y_train)"
   ]
  },
  {
   "cell_type": "code",
   "execution_count": 346,
   "id": "bc39d6f9",
   "metadata": {},
   "outputs": [
    {
     "data": {
      "text/plain": [
       "0.09522703847845082"
      ]
     },
     "execution_count": 346,
     "metadata": {},
     "output_type": "execute_result"
    }
   ],
   "source": [
    "rg.score(X_train, y_train)"
   ]
  },
  {
   "cell_type": "markdown",
   "id": "6dc3dea1",
   "metadata": {},
   "source": [
    "## Runing Lasso Regression"
   ]
  },
  {
   "cell_type": "code",
   "execution_count": 347,
   "id": "a138d0f8",
   "metadata": {},
   "outputs": [
    {
     "name": "stdout",
     "output_type": "stream",
     "text": [
      "Mean MAE: 948.702 (17.125)\n"
     ]
    }
   ],
   "source": [
    "from sklearn.model_selection import cross_val_score\n",
    "from sklearn.model_selection import RepeatedKFold\n",
    "from sklearn.linear_model import Lasso\n",
    "from numpy import absolute\n",
    "from numpy import mean\n",
    "from numpy import std\n",
    "\n",
    "# define model\n",
    "lasso = Lasso(alpha=1.0)\n",
    "# define model evaluation method\n",
    "cv = RepeatedKFold(n_splits=10, n_repeats=3, random_state=1)\n",
    "# evaluate model\n",
    "scores = cross_val_score(lasso, X, y, scoring='neg_mean_absolute_error', cv=cv, n_jobs=-1)\n",
    "# force scores to be positive\n",
    "scores = absolute(scores)\n",
    "print('Mean MAE: %.3f (%.3f)' % (mean(scores), std(scores)))"
   ]
  },
  {
   "cell_type": "code",
   "execution_count": 348,
   "id": "c82b011f",
   "metadata": {},
   "outputs": [
    {
     "data": {
      "text/plain": [
       "Lasso()"
      ]
     },
     "execution_count": 348,
     "metadata": {},
     "output_type": "execute_result"
    }
   ],
   "source": [
    "lasso.fit(X_train, y_train)"
   ]
  },
  {
   "cell_type": "code",
   "execution_count": 349,
   "id": "3af71781",
   "metadata": {},
   "outputs": [
    {
     "data": {
      "text/plain": [
       "0.09501450908941844"
      ]
     },
     "execution_count": 349,
     "metadata": {},
     "output_type": "execute_result"
    }
   ],
   "source": [
    "lasso.score(X_train, y_train)"
   ]
  },
  {
   "cell_type": "code",
   "execution_count": null,
   "id": "f01d0353",
   "metadata": {},
   "outputs": [],
   "source": []
  }
 ],
 "metadata": {
  "kernelspec": {
   "display_name": "Python 3",
   "language": "python",
   "name": "python3"
  },
  "language_info": {
   "codemirror_mode": {
    "name": "ipython",
    "version": 3
   },
   "file_extension": ".py",
   "mimetype": "text/x-python",
   "name": "python",
   "nbconvert_exporter": "python",
   "pygments_lexer": "ipython3",
   "version": "3.8.8"
  }
 },
 "nbformat": 4,
 "nbformat_minor": 5
}
